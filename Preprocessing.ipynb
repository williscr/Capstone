{
 "cells": [
  {
   "cell_type": "code",
   "execution_count": 52,
   "id": "8805178f-6da1-44d1-8eb0-fe6638ea199c",
   "metadata": {},
   "outputs": [
    {
     "data": {
      "text/plain": [
       "(381109, 12)"
      ]
     },
     "execution_count": 52,
     "metadata": {},
     "output_type": "execute_result"
    }
   ],
   "source": [
    "import pandas as pd\n",
    "import numpy as np\n",
    "from imblearn.over_sampling import RandomOverSampler\n",
    "from imblearn.under_sampling import RandomUnderSampler\n",
    "from sklearn.preprocessing import StandardScaler, OneHotEncoder, OrdinalEncoder \n",
    "from sklearn.model_selection import train_test_split\n",
    "from category_encoders import HashingEncoder\n",
    "from sklearn.pipeline import Pipeline\n",
    "from sklearn.compose import ColumnTransformer\n",
    "from sklearn.impute import SimpleImputer\n",
    "\n",
    "\n",
    "data = pd.read_csv('train.csv')\n",
    "data.shape"
   ]
  },
  {
   "cell_type": "code",
   "execution_count": 8,
   "id": "8045a8ca-e18b-4ea2-87ff-d02a8938663b",
   "metadata": {},
   "outputs": [],
   "source": [
    "cat_feat = ['Gender', 'Vehicle_Age','Vehicle_Damage']\n",
    "num_feat = ['Age','Annual_Premium','Region_Code','Policy_Sales_Channel','Driving_License','Previously_Insured']"
   ]
  },
  {
   "cell_type": "code",
   "execution_count": 9,
   "id": "0f184dcd-6fc3-4e73-bf91-04dc1f0f857f",
   "metadata": {},
   "outputs": [],
   "source": [
    "def encode():\n",
    "        \n",
    "    categorical_transformer = Pipeline(steps=[\n",
    "            ('onehot', OneHotEncoder(handle_unknown='ignore'))])\n",
    "\n",
    "\n",
    "    numeric_transformer = Pipeline(\n",
    "            steps = [\n",
    "                (\"scaler\", StandardScaler())]\n",
    "        )\n",
    "\n",
    "\n",
    "\n",
    "    preprocessor = ColumnTransformer(\n",
    "        transformers=[\n",
    "            (\"onehot\", categorical_transformer, ['Gender', 'Vehicle_Age','Vehicle_Damage']),\n",
    "            (\"num\", numeric_transformer,['Age','Annual_Premium','Region_Code','Policy_Sales_Channel','Driving_License','Previously_Insured'])\n",
    "        ]\n",
    "    )\n",
    "\n",
    "    clf = Pipeline(\n",
    "        steps=[(\"preprocessor\", preprocessor)]\n",
    "    )\n",
    "\n",
    "    return clf"
   ]
  },
  {
   "cell_type": "code",
   "execution_count": 64,
   "id": "58eca36b-6cfe-43db-98c2-1428ffd37a9c",
   "metadata": {},
   "outputs": [
    {
     "name": "stdout",
     "output_type": "stream",
     "text": [
      "Preprocessed : xtrain, xtest, ytrain, ytest\n",
      "(74736, 13) (18684, 13) (74736,) (18684,)\n"
     ]
    }
   ],
   "source": [
    "clf = encode()\n",
    "#contain all  independent variable\n",
    "x=data.drop(['Response'],axis=1)  \n",
    "y=data['Response']   \n",
    "\n",
    "train = RandomUnderSampler(random_state=42, replacement=True)\n",
    "x_train, y_train = train.fit_resample(data.iloc[:,0:-1], data['Response'])\n",
    "\n",
    "xtrain,xtest,ytrain,ytest=train_test_split(x_train,y_train,test_size=.20,random_state=0)\n",
    "\n",
    "xtrain=clf.fit_transform(xtrain)\n",
    "xtest=clf.transform(xtest)\n",
    "\n",
    "print('Preprocessed : xtrain, xtest, ytrain, ytest') \n",
    "\n",
    "print(xtrain.shape,xtest.shape,ytrain.shape,ytest.shape)"
   ]
  },
  {
   "cell_type": "code",
   "execution_count": null,
   "id": "a41b5b04-8a1d-47e9-b61b-6419187673f0",
   "metadata": {},
   "outputs": [],
   "source": []
  }
 ],
 "metadata": {
  "kernelspec": {
   "display_name": "Python 3 (ipykernel)",
   "language": "python",
   "name": "python3"
  },
  "language_info": {
   "codemirror_mode": {
    "name": "ipython",
    "version": 3
   },
   "file_extension": ".py",
   "mimetype": "text/x-python",
   "name": "python",
   "nbconvert_exporter": "python",
   "pygments_lexer": "ipython3",
   "version": "3.7.12"
  }
 },
 "nbformat": 4,
 "nbformat_minor": 5
}
