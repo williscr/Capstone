{
 "cells": [
  {
   "cell_type": "code",
   "execution_count": 1,
   "id": "aa90769c-c265-4f94-9465-8aaca4c05324",
   "metadata": {},
   "outputs": [],
   "source": [
    "import pandas as pd\n",
    "import numpy as np"
   ]
  },
  {
   "cell_type": "code",
   "execution_count": 2,
   "id": "08d73aa9-e9eb-4e69-9e64-74f69fa7faa6",
   "metadata": {},
   "outputs": [],
   "source": [
    "train_df = pd.read_csv('train.csv')\n",
    "test_df = pd.read_csv('train.csv')"
   ]
  },
  {
   "cell_type": "code",
   "execution_count": 3,
   "id": "8f09dc8d-bfab-47c9-a869-812f8d48f41b",
   "metadata": {},
   "outputs": [],
   "source": [
    "from sklearn.preprocessing import StandardScaler, OneHotEncoder, OrdinalEncoder \n",
    "from category_encoders import HashingEncoder\n",
    "from sklearn.pipeline import Pipeline\n",
    "from sklearn.compose import ColumnTransformer\n",
    "from sklearn.impute import SimpleImputer"
   ]
  },
  {
   "cell_type": "code",
   "execution_count": 4,
   "id": "8045a8ca-e18b-4ea2-87ff-d02a8938663b",
   "metadata": {},
   "outputs": [],
   "source": [
    "num_feat = ['Age','Annual_Premium']\n",
    "cat_feat = ['Gender', 'Vehicle_Damage', 'Vehicle_Age','Driving_License', 'Previously_Insured','Policy_Sales_Channel']"
   ]
  },
  {
   "cell_type": "code",
   "execution_count": 5,
   "id": "0f184dcd-6fc3-4e73-bf91-04dc1f0f857f",
   "metadata": {},
   "outputs": [],
   "source": [
    " def encode():\n",
    "  \n",
    "    categorical_transformer = Pipeline(steps=[\n",
    "        ('onehot', OneHotEncoder(handle_unknown='ignore'))])\n",
    "\n",
    "    numeric_transformer = Pipeline(\n",
    "        steps = [\n",
    "            (\"scaler\", StandardScaler())]\n",
    "    )\n",
    "    \n",
    "    \n",
    "    preprocessor = ColumnTransformer(\n",
    "        transformers=[\n",
    "            (\"num\", numeric_transformer, num_feat),\n",
    "            (\"onehot\", categorical_transformer, cat_feat)\n",
    "        ]\n",
    "    )\n",
    "\n",
    "    clf = Pipeline(\n",
    "        steps=[(\"preprocessor\", preprocessor)]\n",
    "    )\n",
    "\n",
    "    return clf"
   ]
  },
  {
   "cell_type": "code",
   "execution_count": 6,
   "id": "f07a1b4e-87ae-4b3e-95ae-42dccaab4991",
   "metadata": {},
   "outputs": [],
   "source": [
    "def returnXY(): \n",
    "    \n",
    "    clf = encode()\n",
    "\n",
    "    clf.fit(train_df)\n",
    "\n",
    "    train_x = clf.transform(train_df[num_feat + cat_feat])\n",
    "    test_x = clf.transform(test_df[num_feat + cat_feat])\n",
    "    \n",
    "    train_y = train_df['Response']\n",
    "    test_y = test_df['Response']\n",
    "\n",
    "    return train_x, train_y , test_x , test_y "
   ]
  },
  {
   "cell_type": "code",
   "execution_count": null,
   "id": "e3bd6302-182e-428f-a641-be544ce908fe",
   "metadata": {},
   "outputs": [],
   "source": [
    "#cat_cols = clf.named_steps['preprocessor'].transformers_[1][1] \\\n",
    "#    .named_steps['onehot'].get_feature_names_out(cat_feat)\n",
    "    \n",
    "#X = pd.DataFrame(ds.toarray(), columns=num_feat + cat_cols.tolist())"
   ]
  },
  {
   "cell_type": "code",
   "execution_count": 7,
   "id": "b4ad507c-fec6-4148-90b2-9eded23866e8",
   "metadata": {},
   "outputs": [],
   "source": [
    "train_x , train_y ,test_x, test_y = returnXY()"
   ]
  }
 ],
 "metadata": {
  "kernelspec": {
   "display_name": "Python 3 (ipykernel)",
   "language": "python",
   "name": "python3"
  },
  "language_info": {
   "codemirror_mode": {
    "name": "ipython",
    "version": 3
   },
   "file_extension": ".py",
   "mimetype": "text/x-python",
   "name": "python",
   "nbconvert_exporter": "python",
   "pygments_lexer": "ipython3",
   "version": "3.7.12"
  }
 },
 "nbformat": 4,
 "nbformat_minor": 5
}
