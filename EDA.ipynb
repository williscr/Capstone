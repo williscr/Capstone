{
 "cells": [
  {
   "cell_type": "markdown",
   "id": "fcda68c0-ffbd-4877-b464-7507adb48627",
   "metadata": {},
   "source": [
    "### Data Science Capstone Project NanoDegree \n"
   ]
  },
  {
   "cell_type": "code",
   "execution_count": 52,
   "id": "7b4b349d-9e58-4509-bc00-482c507ec90c",
   "metadata": {},
   "outputs": [],
   "source": [
    "#Imports \n",
    "import pandas as pd \n",
    "import numpy as np \n",
    "import matplotlib.pyplot as plt\n",
    "import seaborn as sns \n",
    "from dython.nominal import associations , identify_nominal_columns , cramers_v , theils_u"
   ]
  },
  {
   "cell_type": "markdown",
   "id": "f11c5f71-eb3d-44f5-a461-4fd59169c085",
   "metadata": {
    "tags": []
   },
   "source": [
    "#### Load in the dataset "
   ]
  },
  {
   "cell_type": "code",
   "execution_count": 53,
   "id": "4c9da7af-e297-4432-8d3d-723dae32c39a",
   "metadata": {},
   "outputs": [],
   "source": [
    "data = pd.read_csv('train.csv')"
   ]
  },
  {
   "cell_type": "code",
   "execution_count": 54,
   "id": "a0dc4ebf-f168-45d9-bc4d-76f4bf9db0d8",
   "metadata": {},
   "outputs": [
    {
     "name": "stdout",
     "output_type": "stream",
     "text": [
      "(381109, 12)\n"
     ]
    }
   ],
   "source": [
    "print(data.shape)"
   ]
  },
  {
   "cell_type": "code",
   "execution_count": 55,
   "id": "d83e5e35-c5db-4f44-a45a-86cb4d75e74c",
   "metadata": {},
   "outputs": [
    {
     "data": {
      "text/html": [
       "<div>\n",
       "<style scoped>\n",
       "    .dataframe tbody tr th:only-of-type {\n",
       "        vertical-align: middle;\n",
       "    }\n",
       "\n",
       "    .dataframe tbody tr th {\n",
       "        vertical-align: top;\n",
       "    }\n",
       "\n",
       "    .dataframe thead th {\n",
       "        text-align: right;\n",
       "    }\n",
       "</style>\n",
       "<table border=\"1\" class=\"dataframe\">\n",
       "  <thead>\n",
       "    <tr style=\"text-align: right;\">\n",
       "      <th></th>\n",
       "      <th>id</th>\n",
       "      <th>Gender</th>\n",
       "      <th>Age</th>\n",
       "      <th>Driving_License</th>\n",
       "      <th>Region_Code</th>\n",
       "      <th>Previously_Insured</th>\n",
       "      <th>Vehicle_Age</th>\n",
       "      <th>Vehicle_Damage</th>\n",
       "      <th>Annual_Premium</th>\n",
       "      <th>Policy_Sales_Channel</th>\n",
       "      <th>Vintage</th>\n",
       "      <th>Response</th>\n",
       "    </tr>\n",
       "  </thead>\n",
       "  <tbody>\n",
       "    <tr>\n",
       "      <th>0</th>\n",
       "      <td>1</td>\n",
       "      <td>Male</td>\n",
       "      <td>44</td>\n",
       "      <td>1</td>\n",
       "      <td>28.0</td>\n",
       "      <td>0</td>\n",
       "      <td>&gt; 2 Years</td>\n",
       "      <td>Yes</td>\n",
       "      <td>40454.0</td>\n",
       "      <td>26.0</td>\n",
       "      <td>217</td>\n",
       "      <td>1</td>\n",
       "    </tr>\n",
       "    <tr>\n",
       "      <th>1</th>\n",
       "      <td>2</td>\n",
       "      <td>Male</td>\n",
       "      <td>76</td>\n",
       "      <td>1</td>\n",
       "      <td>3.0</td>\n",
       "      <td>0</td>\n",
       "      <td>1-2 Year</td>\n",
       "      <td>No</td>\n",
       "      <td>33536.0</td>\n",
       "      <td>26.0</td>\n",
       "      <td>183</td>\n",
       "      <td>0</td>\n",
       "    </tr>\n",
       "    <tr>\n",
       "      <th>2</th>\n",
       "      <td>3</td>\n",
       "      <td>Male</td>\n",
       "      <td>47</td>\n",
       "      <td>1</td>\n",
       "      <td>28.0</td>\n",
       "      <td>0</td>\n",
       "      <td>&gt; 2 Years</td>\n",
       "      <td>Yes</td>\n",
       "      <td>38294.0</td>\n",
       "      <td>26.0</td>\n",
       "      <td>27</td>\n",
       "      <td>1</td>\n",
       "    </tr>\n",
       "    <tr>\n",
       "      <th>3</th>\n",
       "      <td>4</td>\n",
       "      <td>Male</td>\n",
       "      <td>21</td>\n",
       "      <td>1</td>\n",
       "      <td>11.0</td>\n",
       "      <td>1</td>\n",
       "      <td>&lt; 1 Year</td>\n",
       "      <td>No</td>\n",
       "      <td>28619.0</td>\n",
       "      <td>152.0</td>\n",
       "      <td>203</td>\n",
       "      <td>0</td>\n",
       "    </tr>\n",
       "    <tr>\n",
       "      <th>4</th>\n",
       "      <td>5</td>\n",
       "      <td>Female</td>\n",
       "      <td>29</td>\n",
       "      <td>1</td>\n",
       "      <td>41.0</td>\n",
       "      <td>1</td>\n",
       "      <td>&lt; 1 Year</td>\n",
       "      <td>No</td>\n",
       "      <td>27496.0</td>\n",
       "      <td>152.0</td>\n",
       "      <td>39</td>\n",
       "      <td>0</td>\n",
       "    </tr>\n",
       "  </tbody>\n",
       "</table>\n",
       "</div>"
      ],
      "text/plain": [
       "   id  Gender  Age  Driving_License  Region_Code  Previously_Insured  \\\n",
       "0   1    Male   44                1         28.0                   0   \n",
       "1   2    Male   76                1          3.0                   0   \n",
       "2   3    Male   47                1         28.0                   0   \n",
       "3   4    Male   21                1         11.0                   1   \n",
       "4   5  Female   29                1         41.0                   1   \n",
       "\n",
       "  Vehicle_Age Vehicle_Damage  Annual_Premium  Policy_Sales_Channel  Vintage  \\\n",
       "0   > 2 Years            Yes         40454.0                  26.0      217   \n",
       "1    1-2 Year             No         33536.0                  26.0      183   \n",
       "2   > 2 Years            Yes         38294.0                  26.0       27   \n",
       "3    < 1 Year             No         28619.0                 152.0      203   \n",
       "4    < 1 Year             No         27496.0                 152.0       39   \n",
       "\n",
       "   Response  \n",
       "0         1  \n",
       "1         0  \n",
       "2         1  \n",
       "3         0  \n",
       "4         0  "
      ]
     },
     "execution_count": 55,
     "metadata": {},
     "output_type": "execute_result"
    }
   ],
   "source": [
    "data.head()"
   ]
  },
  {
   "cell_type": "code",
   "execution_count": 56,
   "id": "84b78f55-4fc6-4f7a-979f-b99df2e6b856",
   "metadata": {},
   "outputs": [
    {
     "name": "stdout",
     "output_type": "stream",
     "text": [
      "<class 'pandas.core.frame.DataFrame'>\n",
      "RangeIndex: 381109 entries, 0 to 381108\n",
      "Data columns (total 12 columns):\n",
      " #   Column                Non-Null Count   Dtype  \n",
      "---  ------                --------------   -----  \n",
      " 0   id                    381109 non-null  int64  \n",
      " 1   Gender                381109 non-null  object \n",
      " 2   Age                   381109 non-null  int64  \n",
      " 3   Driving_License       381109 non-null  int64  \n",
      " 4   Region_Code           381109 non-null  float64\n",
      " 5   Previously_Insured    381109 non-null  int64  \n",
      " 6   Vehicle_Age           381109 non-null  object \n",
      " 7   Vehicle_Damage        381109 non-null  object \n",
      " 8   Annual_Premium        381109 non-null  float64\n",
      " 9   Policy_Sales_Channel  381109 non-null  float64\n",
      " 10  Vintage               381109 non-null  int64  \n",
      " 11  Response              381109 non-null  int64  \n",
      "dtypes: float64(3), int64(6), object(3)\n",
      "memory usage: 34.9+ MB\n"
     ]
    }
   ],
   "source": [
    "data.info()"
   ]
  },
  {
   "cell_type": "code",
   "execution_count": 57,
   "id": "fd1e0b1e-cb8e-4094-813f-4143e64af6b1",
   "metadata": {},
   "outputs": [],
   "source": [
    "data[[\"Region_Code\",\"Policy_Sales_Channel\"]] = data[[\"Region_Code\",\"Policy_Sales_Channel\"]].astype('int').astype(\"object\")"
   ]
  },
  {
   "cell_type": "markdown",
   "id": "d8460d43-87a8-4599-9f69-9cc0d74f011b",
   "metadata": {
    "tags": []
   },
   "source": [
    "#### Data quality checks "
   ]
  },
  {
   "cell_type": "code",
   "execution_count": 58,
   "id": "3d522a0b-263b-4e39-9df7-601c57e7ae4f",
   "metadata": {},
   "outputs": [
    {
     "data": {
      "text/plain": [
       "id                      0\n",
       "Gender                  0\n",
       "Age                     0\n",
       "Driving_License         0\n",
       "Region_Code             0\n",
       "Previously_Insured      0\n",
       "Vehicle_Age             0\n",
       "Vehicle_Damage          0\n",
       "Annual_Premium          0\n",
       "Policy_Sales_Channel    0\n",
       "Vintage                 0\n",
       "Response                0\n",
       "dtype: int64"
      ]
     },
     "execution_count": 58,
     "metadata": {},
     "output_type": "execute_result"
    }
   ],
   "source": [
    "data.isnull().sum()"
   ]
  },
  {
   "cell_type": "code",
   "execution_count": 59,
   "id": "2f34cc9a-3e44-434e-8e57-d0d83738171b",
   "metadata": {},
   "outputs": [
    {
     "data": {
      "text/plain": [
       "id                      381109\n",
       "Gender                       2\n",
       "Age                         66\n",
       "Driving_License              2\n",
       "Region_Code                 53\n",
       "Previously_Insured           2\n",
       "Vehicle_Age                  3\n",
       "Vehicle_Damage               2\n",
       "Annual_Premium           48838\n",
       "Policy_Sales_Channel       155\n",
       "Vintage                    290\n",
       "Response                     2\n",
       "dtype: int64"
      ]
     },
     "execution_count": 59,
     "metadata": {},
     "output_type": "execute_result"
    }
   ],
   "source": [
    "data.nunique()"
   ]
  },
  {
   "cell_type": "code",
   "execution_count": 60,
   "id": "761f77d8-2ed9-4c08-a54b-2076472b7f56",
   "metadata": {},
   "outputs": [
    {
     "data": {
      "text/plain": [
       "False    381109\n",
       "dtype: int64"
      ]
     },
     "execution_count": 60,
     "metadata": {},
     "output_type": "execute_result"
    }
   ],
   "source": [
    "data.duplicated().value_counts()"
   ]
  },
  {
   "cell_type": "code",
   "execution_count": 61,
   "id": "05cb0f3c-2425-4e9a-822c-ebd93218043e",
   "metadata": {},
   "outputs": [
    {
     "data": {
      "text/plain": [
       "False    381109\n",
       "dtype: int64"
      ]
     },
     "execution_count": 61,
     "metadata": {},
     "output_type": "execute_result"
    }
   ],
   "source": [
    "data.duplicated().value_counts()"
   ]
  },
  {
   "cell_type": "markdown",
   "id": "cf4f36a9-0610-443f-bb35-904aeec158bc",
   "metadata": {},
   "source": [
    "##### No nulls - no duplicates: Prelimary Preprocessing is not required. "
   ]
  },
  {
   "cell_type": "markdown",
   "id": "03abd31e-e540-4397-91a3-f3cc6cf82902",
   "metadata": {
    "tags": []
   },
   "source": [
    "#### Target Variable "
   ]
  },
  {
   "cell_type": "code",
   "execution_count": null,
   "id": "4baa5086-d42a-434f-90a9-57b9ff66b3b6",
   "metadata": {},
   "outputs": [
    {
     "data": {
      "image/png": "[encoded data removed]",
      "text/plain": [
       "<Figure size 1300x300 with 2 Axes>"
      ]
     },
     "metadata": {
      "needs_background": "light"
     },
     "output_type": "display_data"
    }
   ],
   "source": [
    "fig, axes = plt.subplots(ncols = 2, figsize = (13, 3), dpi = 100)\n",
    "plt.tight_layout()\n",
    "\n",
    "data.groupby('Response').count()['id'].plot(kind = 'pie', ax = axes[0], labels = ['Interested (87.7%)', 'Not Interested (12.1%)'])\n",
    "res = sns.countplot(x = data['Response'], hue = data['Response'], ax = axes[1])\n",
    "\n",
    "axes[0].set_ylabel('')\n",
    "axes[1].set_ylabel('')\n",
    "axes[1].set_xticklabels(['Interested (87.7%)', 'Not Interested (12.1%)'])\n",
    "axes[0].tick_params(axis = 'x', labelsize = 8)\n",
    "axes[0].tick_params(axis = 'y', labelsize = 8)\n",
    "axes[1].tick_params(axis = 'x', labelsize = 8)\n",
    "axes[1].tick_params(axis = 'y', labelsize = 8)\n",
    "\n",
    "for container in res.containers:\n",
    "    res.bar_label(container)\n",
    "\n",
    "axes[0].set_title('Label Distribution in Training Set', fontsize = 8)\n",
    "axes[1].set_title('Label Count in Training Set', fontsize =8)\n",
    "\n",
    "plt.show()"
   ]
  },
  {
   "cell_type": "markdown",
   "id": "fc3da983-8e81-4d59-aee0-b2157ed61f0d",
   "metadata": {},
   "source": [
    "##### Comment : \n",
    "We can observe that the target feature i.e whether a vehicle insuance holder is likely to be interested in health insurance, is highly imbalanced, with 87% of health insurance holders not having purchased a vehicle insurance."
   ]
  },
  {
   "cell_type": "markdown",
   "id": "ee4abd62-eed2-4f8b-bd27-68c98e7b1154",
   "metadata": {
    "tags": []
   },
   "source": [
    "#### Analyse the numeric features in the dataset "
   ]
  },
  {
   "cell_type": "code",
   "execution_count": null,
   "id": "16f93f10-a8d3-4b92-adbe-0addfff90790",
   "metadata": {},
   "outputs": [],
   "source": [
    "numerical_cols = ['Age','Annual_Premium','Vintage']"
   ]
  },
  {
   "cell_type": "code",
   "execution_count": null,
   "id": "06a167d1-4378-4cbd-92bf-c83b70f0aca2",
   "metadata": {},
   "outputs": [
    {
     "data": {
      "text/html": [
       "<div>\n",
       "<style scoped>\n",
       "    .dataframe tbody tr th:only-of-type {\n",
       "        vertical-align: middle;\n",
       "    }\n",
       "\n",
       "    .dataframe tbody tr th {\n",
       "        vertical-align: top;\n",
       "    }\n",
       "\n",
       "    .dataframe thead th {\n",
       "        text-align: right;\n",
       "    }\n",
       "</style>\n",
       "<table border=\"1\" class=\"dataframe\">\n",
       "  <thead>\n",
       "    <tr style=\"text-align: right;\">\n",
       "      <th></th>\n",
       "      <th>count</th>\n",
       "      <th>mean</th>\n",
       "      <th>std</th>\n",
       "      <th>min</th>\n",
       "      <th>25%</th>\n",
       "      <th>50%</th>\n",
       "      <th>75%</th>\n",
       "      <th>max</th>\n",
       "    </tr>\n",
       "  </thead>\n",
       "  <tbody>\n",
       "    <tr>\n",
       "      <th>Age</th>\n",
       "      <td>381109.0</td>\n",
       "      <td>38.822584</td>\n",
       "      <td>15.511611</td>\n",
       "      <td>20.0</td>\n",
       "      <td>25.0</td>\n",
       "      <td>36.0</td>\n",
       "      <td>49.0</td>\n",
       "      <td>85.0</td>\n",
       "    </tr>\n",
       "    <tr>\n",
       "      <th>Annual_Premium</th>\n",
       "      <td>381109.0</td>\n",
       "      <td>30564.389581</td>\n",
       "      <td>17213.155057</td>\n",
       "      <td>2630.0</td>\n",
       "      <td>24405.0</td>\n",
       "      <td>31669.0</td>\n",
       "      <td>39400.0</td>\n",
       "      <td>540165.0</td>\n",
       "    </tr>\n",
       "    <tr>\n",
       "      <th>Vintage</th>\n",
       "      <td>381109.0</td>\n",
       "      <td>154.347397</td>\n",
       "      <td>83.671304</td>\n",
       "      <td>10.0</td>\n",
       "      <td>82.0</td>\n",
       "      <td>154.0</td>\n",
       "      <td>227.0</td>\n",
       "      <td>299.0</td>\n",
       "    </tr>\n",
       "  </tbody>\n",
       "</table>\n",
       "</div>"
      ],
      "text/plain": [
       "                   count          mean           std     min      25%  \\\n",
       "Age             381109.0     38.822584     15.511611    20.0     25.0   \n",
       "Annual_Premium  381109.0  30564.389581  17213.155057  2630.0  24405.0   \n",
       "Vintage         381109.0    154.347397     83.671304    10.0     82.0   \n",
       "\n",
       "                    50%      75%       max  \n",
       "Age                36.0     49.0      85.0  \n",
       "Annual_Premium  31669.0  39400.0  540165.0  \n",
       "Vintage           154.0    227.0     299.0  "
      ]
     },
     "execution_count": 64,
     "metadata": {},
     "output_type": "execute_result"
    }
   ],
   "source": [
    "data[numerical_cols].describe().T"
   ]
  },
  {
   "cell_type": "code",
   "execution_count": null,
   "id": "a69bb157-165f-43f4-8e02-6538852e813d",
   "metadata": {},
   "outputs": [
    {
     "data": {
      "text/html": [
       "<div>\n",
       "<style scoped>\n",
       "    .dataframe tbody tr th:only-of-type {\n",
       "        vertical-align: middle;\n",
       "    }\n",
       "\n",
       "    .dataframe tbody tr th {\n",
       "        vertical-align: top;\n",
       "    }\n",
       "\n",
       "    .dataframe thead th {\n",
       "        text-align: right;\n",
       "    }\n",
       "</style>\n",
       "<table border=\"1\" class=\"dataframe\">\n",
       "  <thead>\n",
       "    <tr style=\"text-align: right;\">\n",
       "      <th></th>\n",
       "      <th>Skewed Values</th>\n",
       "    </tr>\n",
       "  </thead>\n",
       "  <tbody>\n",
       "    <tr>\n",
       "      <th>Age</th>\n",
       "      <td>0.672539</td>\n",
       "    </tr>\n",
       "    <tr>\n",
       "      <th>Annual_Premium</th>\n",
       "      <td>1.766087</td>\n",
       "    </tr>\n",
       "    <tr>\n",
       "      <th>Vintage</th>\n",
       "      <td>0.003030</td>\n",
       "    </tr>\n",
       "  </tbody>\n",
       "</table>\n",
       "</div>"
      ],
      "text/plain": [
       "                Skewed Values\n",
       "Age                  0.672539\n",
       "Annual_Premium       1.766087\n",
       "Vintage              0.003030"
      ]
     },
     "execution_count": 65,
     "metadata": {},
     "output_type": "execute_result"
    }
   ],
   "source": [
    "data[numerical_cols].skew(axis=0).to_frame('Skewed Values')"
   ]
  },
  {
   "cell_type": "code",
   "execution_count": null,
   "id": "3688117f-5fbd-41ec-96c9-5510b97bb0b1",
   "metadata": {},
   "outputs": [],
   "source": [
    "pp_plot_data = data.drop(['id','Gender', 'Vehicle_Damage', 'Vehicle_Age', 'Driving_License', 'Region_Code','Policy_Sales_Channel','Previously_Insured' ], axis =1)\n",
    "sns.pairplot(pp_plot_data, hue=\"Response\");\n"
   ]
  },
  {
   "cell_type": "markdown",
   "id": "1e062c2e-8827-426f-8adb-067bb3b56811",
   "metadata": {
    "tags": []
   },
   "source": [
    "##### Feature : Age "
   ]
  },
  {
   "cell_type": "code",
   "execution_count": null,
   "id": "2b1feb8c-17d4-4d91-aa72-b732fdf2dbb2",
   "metadata": {},
   "outputs": [],
   "source": [
    "sns.distplot(x= data.Age)\n",
    "plt.title('Distribution of Age' )\n",
    "plt.show() \n",
    "\n",
    "sns.boxplot(x=data['Response'],\n",
    "        y = data['Age'], \n",
    "        data = data,palette='Accent',\n",
    "            showmeans=True,\n",
    "                    meanprops={\"marker\": \"+\",\n",
    "                        \"markeredgecolor\": \"black\",\n",
    "                        \"markersize\": \"10\"})\n",
    "\n",
    "plt.title('Box plot showing the distribution of Age' )\n",
    "plt.show()\n"
   ]
  },
  {
   "cell_type": "code",
   "execution_count": null,
   "id": "6bcb7383-ce72-4be9-aa05-7d331cbce763",
   "metadata": {},
   "outputs": [],
   "source": [
    "print(data.groupby('Response')['Age'].describe())\n",
    "print(data.groupby('Response')['Age'].median())"
   ]
  },
  {
   "cell_type": "code",
   "execution_count": null,
   "id": "c4747fa5-5ccd-473e-ae46-b4e3edc6516f",
   "metadata": {},
   "outputs": [],
   "source": [
    "plt.figure(figsize = (15, 6))\n",
    "sns.distplot(data.loc[(data['Driving_License'] == 0), 'Age'], kde_kws = {\"color\": \"b\", \"lw\": 1, \"label\": \"Not Licensed for driving\"})\n",
    "sns.distplot(data.loc[(data['Driving_License'] == 1), 'Age'], kde_kws = {\"color\": \"r\", \"lw\": 1, \"label\": \"Licensed for Driving\"})\n",
    "plt.title('Age distribution by Driving License', fontsize = 15)\n",
    "plt.show()"
   ]
  },
  {
   "cell_type": "markdown",
   "id": "735862c0-694d-401c-b31d-c52b03bb010a",
   "metadata": {},
   "source": [
    "##### Comment : \n",
    "- Most insurance holders are between 20-30. \n",
    "- The dist plot shows a slight bi-modal distribution - A larger number of holders found in the 40-50 years age bracket. \n",
    "- The mean and median age is higher for owners interested in vehicle insurance. \n",
    "   - Response variable 1 : { Mean : 43 , Median : 43 } , 0 : { Mean : 38 , Median : 43 } \n",
    "- People aged between 30-60 are most likely to be interested\n",
    "- There are no outliers inthe dataset"
   ]
  },
  {
   "cell_type": "code",
   "execution_count": null,
   "id": "3a5667df-57c7-401a-9a77-30ae10c7c783",
   "metadata": {},
   "outputs": [],
   "source": [
    "# Plotting jointplot of Age Vs driving license\n",
    "plt.figure(figsize=(8,6))\n",
    "sns.jointplot(x='Age', y='Driving_License', data=((data[data['Driving_License']==1]).groupby('Age')['Driving_License'].sum() / data.groupby('Age')['Driving_License'].count()).reset_index());\n",
    "plt.show()\n",
    "\n",
    "plt.figure(figsize=(8,6))\n",
    "sns.jointplot(x='Age', y='Previously_Insured', data=((data[data['Previously_Insured']==1]).groupby('Age')['Previously_Insured'].sum() / data.groupby('Age')['Previously_Insured'].count()).reset_index());\n",
    "plt.show()"
   ]
  },
  {
   "cell_type": "markdown",
   "id": "3d6157b1-9bab-405a-a431-0d77c93651ce",
   "metadata": {
    "tags": []
   },
   "source": [
    "##### Feature : Annual Premium "
   ]
  },
  {
   "cell_type": "code",
   "execution_count": null,
   "id": "fb5d8ad4-a479-4054-b169-c7b5dca11b83",
   "metadata": {},
   "outputs": [],
   "source": [
    "plt.figure(figsize=(13,7))\n",
    "plt.subplot(2,1,1)\n",
    "sns.distplot(data['Annual_Premium'])\n",
    "plt.title(\"Distribution of Annual premium\")\n",
    "plt.show()\n",
    "\n",
    "sns.boxplot(x=data['Response'],\n",
    "        y = data['Annual_Premium'], \n",
    "        data = data,palette='Accent',\n",
    "            showmeans=True,\n",
    "                    meanprops={\"marker\": \"+\",\n",
    "                        \"markeredgecolor\": \"black\",\n",
    "                        \"markersize\": \"10\"})\n",
    "\n",
    "plt.title('Box plot showing the distribution of Annual Premium Cost' )\n",
    "plt.semilogy()\n",
    "plt.show()"
   ]
  },
  {
   "cell_type": "code",
   "execution_count": null,
   "id": "adb85d44-5541-4e3a-bf6b-c2900b8cab5b",
   "metadata": {},
   "outputs": [],
   "source": [
    "print(data.groupby('Response')['Annual_Premium'].median())\n",
    "data.groupby('Response')['Annual_Premium'].describe()"
   ]
  },
  {
   "cell_type": "markdown",
   "id": "d1f5ed19-a626-4f54-8f47-c3c219fc0da8",
   "metadata": {},
   "source": [
    "##### Comment : \n",
    "- Annual Premium is highly positively skewed to the right. With a skew value of 1.7. \n",
    "- There is a large range in Annual Premium of 537535.0\n",
    "- The mean median price Insurance holders pay per annum is 31669.0\n",
    "- Mean and Median Values are slighly high where the response variable = 1 \n",
    "- The box plots show there are a large number of outliers for the annual premium."
   ]
  },
  {
   "cell_type": "markdown",
   "id": "56bde3d4-8381-4107-a588-4fb1bdaa9403",
   "metadata": {},
   "source": [
    "##### Feature : Vintage"
   ]
  },
  {
   "cell_type": "code",
   "execution_count": null,
   "id": "72b8f975-ad47-44b7-9e35-c3549aed24bb",
   "metadata": {},
   "outputs": [],
   "source": [
    "sns.distplot(x= data.Vintage)\n",
    "plt.title('Distribution of Vintage' )\n",
    "plt.show()\n",
    "\n",
    "sns.boxplot(x=data['Response'],\n",
    "        y = data['Vintage'], \n",
    "        data = data,palette='Accent',\n",
    "            showmeans=True,\n",
    "                    meanprops={\"marker\": \"+\",\n",
    "                        \"markeredgecolor\": \"black\",\n",
    "                        \"markersize\": \"10\"})\n",
    "\n",
    "plt.title('Box plot showing the distribution of Vintage' )\n",
    "plt.show()"
   ]
  },
  {
   "cell_type": "markdown",
   "id": "fd8cda24-31f4-4042-9181-b33848922b01",
   "metadata": {},
   "source": [
    "##### Comment : \n",
    "The vintage column can be dropped as there does not seem to be any difference with the response variable "
   ]
  },
  {
   "cell_type": "code",
   "execution_count": null,
   "id": "df8a0f06-d506-4c82-a074-4b6d2ffafafd",
   "metadata": {},
   "outputs": [],
   "source": [
    "# pair-wise correlation between all variables\n",
    "corr = data.corr()\n",
    "plt.figure(figsize = (10,10))\n",
    "# plotting the heatmap\n",
    "sns.heatmap(abs(corr), annot=True,linewidths=3)\n",
    "plt.title(\"Correlation Heatmap\", y=1.05, size=15)"
   ]
  },
  {
   "cell_type": "markdown",
   "id": "374a1d1f-1a09-4eeb-9da0-e08f2611952f",
   "metadata": {
    "tags": []
   },
   "source": [
    "#### Categorical Variables "
   ]
  },
  {
   "cell_type": "code",
   "execution_count": null,
   "id": "f56c6253-4781-4f61-bf6f-b08919006e10",
   "metadata": {},
   "outputs": [],
   "source": [
    "categorical_columns=data[['Gender','Driving_License','Previously_Insured','Vehicle_Age','Vehicle_Damage','Response']]"
   ]
  },
  {
   "cell_type": "code",
   "execution_count": null,
   "id": "7e469928-90b4-4aad-bce7-28dcc246599c",
   "metadata": {},
   "outputs": [],
   "source": [
    "col = categorical_columns.columns\n",
    "cramersV = pd.DataFrame(index=['Response'],columns=categorical_columns.columns)\n",
    "for i in range(len(col)): \n",
    "    v = cramers_v(categorical_columns['Response'], categorical_columns[col[i]], bias_correction=True, nan_strategy='replace', nan_replace_value=0.0)\n",
    "    cramersV.loc[:,col[i]] = v\n",
    "    cramersV.astype(float)\n",
    "plt.figure(figsize=(20,1))\n",
    "sns.heatmap(cramersV,annot=True,fmt='.2f')"
   ]
  },
  {
   "cell_type": "code",
   "execution_count": null,
   "id": "5f98bc29-cbf2-483d-8f3e-86e0499b784b",
   "metadata": {},
   "outputs": [],
   "source": [
    "for i in col: \n",
    "    fig = sns.countplot(x=categorical_columns[i] , hue = categorical_columns['Response'])\n",
    "    \n",
    "    for container in fig.containers:\n",
    "        fig.bar_label(container)\n",
    "        \n",
    "    plt.title('Countplot for variable {}'.format(i))\n",
    "    plt.show()\n"
   ]
  },
  {
   "cell_type": "markdown",
   "id": "3ee993c4-7bb1-4b40-ab5d-06d321e42683",
   "metadata": {},
   "source": [
    "##### Comment \n",
    "Gender : \n",
    "    - The gender category is almost equal \n",
    "    - Men have a slightly higher chance of buying health insurance. \n",
    "\n",
    "Driving Licence \n",
    "    - Most customers in the dataset have a driving licence. \n",
    "    - Of the customers who are interested in vehicle insurance the majority have a driving licence. \n",
    "\n",
    "Previously Insured\n",
    "    - Customers who are not previously insured are likely to be interested. \n",
    "    - Very few customers (158) who are previously insured are interested. \n",
    "\n",
    "Vehicle Age: \n",
    "    - Customers with vechicle age 1-2 years are more likely to interested as compared to the other two\n",
    "    - Customers with with Vehicle_Age <1 years have very less chance of buying Insurance"
   ]
  }
 ],
 "metadata": {
  "kernelspec": {
   "display_name": "Python 3 (ipykernel)",
   "language": "python",
   "name": "python3"
  },
  "language_info": {
   "codemirror_mode": {
    "name": "ipython",
    "version": 3
   },
   "file_extension": ".py",
   "mimetype": "text/x-python",
   "name": "python",
   "nbconvert_exporter": "python",
   "pygments_lexer": "ipython3",
   "version": "3.7.12"
  }
 },
 "nbformat": 4,
 "nbformat_minor": 5
}
