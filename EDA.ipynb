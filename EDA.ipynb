{
 "cells": [
  {
   "cell_type": "markdown",
   "id": "fcda68c0-ffbd-4877-b464-7507adb48627",
   "metadata": {},
   "source": [
    "### Data Science Capstone Project NanoDegree \n"
   ]
  },
  {
   "cell_type": "code",
   "execution_count": 1,
   "id": "7b4b349d-9e58-4509-bc00-482c507ec90c",
   "metadata": {},
   "outputs": [],
   "source": [
    "#Standard Imports  \n",
    "import pandas as pd \n",
    "import numpy as np \n",
    "\n",
    "#Data Visualisation Imports \n",
    "import matplotlib.pyplot as plt\n",
    "import seaborn as sns "
   ]
  },
  {
   "cell_type": "markdown",
   "id": "f11c5f71-eb3d-44f5-a461-4fd59169c085",
   "metadata": {
    "tags": []
   },
   "source": [
    "#### Load in the dataset "
   ]
  },
  {
   "cell_type": "code",
   "execution_count": 2,
   "id": "4c9da7af-e297-4432-8d3d-723dae32c39a",
   "metadata": {},
   "outputs": [],
   "source": [
    "train_df = pd.read_csv('train.csv')\n",
    "test_df = pd.read_csv('train.csv')"
   ]
  },
  {
   "cell_type": "code",
   "execution_count": 3,
   "id": "a0dc4ebf-f168-45d9-bc4d-76f4bf9db0d8",
   "metadata": {},
   "outputs": [
    {
     "name": "stdout",
     "output_type": "stream",
     "text": [
      "(381109, 12) (381109, 12)\n"
     ]
    }
   ],
   "source": [
    "print(train_df.shape,test_df.shape)"
   ]
  },
  {
   "cell_type": "code",
   "execution_count": 4,
   "id": "d83e5e35-c5db-4f44-a45a-86cb4d75e74c",
   "metadata": {},
   "outputs": [
    {
     "data": {
      "text/html": [
       "<div>\n",
       "<style scoped>\n",
       "    .dataframe tbody tr th:only-of-type {\n",
       "        vertical-align: middle;\n",
       "    }\n",
       "\n",
       "    .dataframe tbody tr th {\n",
       "        vertical-align: top;\n",
       "    }\n",
       "\n",
       "    .dataframe thead th {\n",
       "        text-align: right;\n",
       "    }\n",
       "</style>\n",
       "<table border=\"1\" class=\"dataframe\">\n",
       "  <thead>\n",
       "    <tr style=\"text-align: right;\">\n",
       "      <th></th>\n",
       "      <th>id</th>\n",
       "      <th>Gender</th>\n",
       "      <th>Age</th>\n",
       "      <th>Driving_License</th>\n",
       "      <th>Region_Code</th>\n",
       "      <th>Previously_Insured</th>\n",
       "      <th>Vehicle_Age</th>\n",
       "      <th>Vehicle_Damage</th>\n",
       "      <th>Annual_Premium</th>\n",
       "      <th>Policy_Sales_Channel</th>\n",
       "      <th>Vintage</th>\n",
       "      <th>Response</th>\n",
       "    </tr>\n",
       "  </thead>\n",
       "  <tbody>\n",
       "    <tr>\n",
       "      <th>0</th>\n",
       "      <td>1</td>\n",
       "      <td>Male</td>\n",
       "      <td>44</td>\n",
       "      <td>1</td>\n",
       "      <td>28.0</td>\n",
       "      <td>0</td>\n",
       "      <td>&gt; 2 Years</td>\n",
       "      <td>Yes</td>\n",
       "      <td>40454.0</td>\n",
       "      <td>26.0</td>\n",
       "      <td>217</td>\n",
       "      <td>1</td>\n",
       "    </tr>\n",
       "    <tr>\n",
       "      <th>1</th>\n",
       "      <td>2</td>\n",
       "      <td>Male</td>\n",
       "      <td>76</td>\n",
       "      <td>1</td>\n",
       "      <td>3.0</td>\n",
       "      <td>0</td>\n",
       "      <td>1-2 Year</td>\n",
       "      <td>No</td>\n",
       "      <td>33536.0</td>\n",
       "      <td>26.0</td>\n",
       "      <td>183</td>\n",
       "      <td>0</td>\n",
       "    </tr>\n",
       "    <tr>\n",
       "      <th>2</th>\n",
       "      <td>3</td>\n",
       "      <td>Male</td>\n",
       "      <td>47</td>\n",
       "      <td>1</td>\n",
       "      <td>28.0</td>\n",
       "      <td>0</td>\n",
       "      <td>&gt; 2 Years</td>\n",
       "      <td>Yes</td>\n",
       "      <td>38294.0</td>\n",
       "      <td>26.0</td>\n",
       "      <td>27</td>\n",
       "      <td>1</td>\n",
       "    </tr>\n",
       "    <tr>\n",
       "      <th>3</th>\n",
       "      <td>4</td>\n",
       "      <td>Male</td>\n",
       "      <td>21</td>\n",
       "      <td>1</td>\n",
       "      <td>11.0</td>\n",
       "      <td>1</td>\n",
       "      <td>&lt; 1 Year</td>\n",
       "      <td>No</td>\n",
       "      <td>28619.0</td>\n",
       "      <td>152.0</td>\n",
       "      <td>203</td>\n",
       "      <td>0</td>\n",
       "    </tr>\n",
       "    <tr>\n",
       "      <th>4</th>\n",
       "      <td>5</td>\n",
       "      <td>Female</td>\n",
       "      <td>29</td>\n",
       "      <td>1</td>\n",
       "      <td>41.0</td>\n",
       "      <td>1</td>\n",
       "      <td>&lt; 1 Year</td>\n",
       "      <td>No</td>\n",
       "      <td>27496.0</td>\n",
       "      <td>152.0</td>\n",
       "      <td>39</td>\n",
       "      <td>0</td>\n",
       "    </tr>\n",
       "  </tbody>\n",
       "</table>\n",
       "</div>"
      ],
      "text/plain": [
       "   id  Gender  Age  Driving_License  Region_Code  Previously_Insured  \\\n",
       "0   1    Male   44                1         28.0                   0   \n",
       "1   2    Male   76                1          3.0                   0   \n",
       "2   3    Male   47                1         28.0                   0   \n",
       "3   4    Male   21                1         11.0                   1   \n",
       "4   5  Female   29                1         41.0                   1   \n",
       "\n",
       "  Vehicle_Age Vehicle_Damage  Annual_Premium  Policy_Sales_Channel  Vintage  \\\n",
       "0   > 2 Years            Yes         40454.0                  26.0      217   \n",
       "1    1-2 Year             No         33536.0                  26.0      183   \n",
       "2   > 2 Years            Yes         38294.0                  26.0       27   \n",
       "3    < 1 Year             No         28619.0                 152.0      203   \n",
       "4    < 1 Year             No         27496.0                 152.0       39   \n",
       "\n",
       "   Response  \n",
       "0         1  \n",
       "1         0  \n",
       "2         1  \n",
       "3         0  \n",
       "4         0  "
      ]
     },
     "execution_count": 4,
     "metadata": {},
     "output_type": "execute_result"
    }
   ],
   "source": [
    "train_df.head()"
   ]
  },
  {
   "cell_type": "code",
   "execution_count": 5,
   "id": "113f9343-afeb-4172-95ae-14ea65d4642f",
   "metadata": {},
   "outputs": [
    {
     "name": "stdout",
     "output_type": "stream",
     "text": [
      "<class 'pandas.core.frame.DataFrame'>\n",
      "RangeIndex: 381109 entries, 0 to 381108\n",
      "Data columns (total 12 columns):\n",
      " #   Column                Non-Null Count   Dtype  \n",
      "---  ------                --------------   -----  \n",
      " 0   id                    381109 non-null  int64  \n",
      " 1   Gender                381109 non-null  object \n",
      " 2   Age                   381109 non-null  int64  \n",
      " 3   Driving_License       381109 non-null  int64  \n",
      " 4   Region_Code           381109 non-null  float64\n",
      " 5   Previously_Insured    381109 non-null  int64  \n",
      " 6   Vehicle_Age           381109 non-null  object \n",
      " 7   Vehicle_Damage        381109 non-null  object \n",
      " 8   Annual_Premium        381109 non-null  float64\n",
      " 9   Policy_Sales_Channel  381109 non-null  float64\n",
      " 10  Vintage               381109 non-null  int64  \n",
      " 11  Response              381109 non-null  int64  \n",
      "dtypes: float64(3), int64(6), object(3)\n",
      "memory usage: 34.9+ MB\n"
     ]
    }
   ],
   "source": [
    "train_df.info()"
   ]
  },
  {
   "cell_type": "markdown",
   "id": "190cde12-5298-4c75-99b1-cda969cfb8b8",
   "metadata": {},
   "source": [
    "Combine Train and Test Data for visualisations "
   ]
  },
  {
   "cell_type": "code",
   "execution_count": 6,
   "id": "984cfd5a-4853-473d-9ec8-173983880235",
   "metadata": {},
   "outputs": [],
   "source": [
    "train_df['type'] = 'train'\n",
    "test_df['type'] = 'test'\n",
    "\n",
    "combined_df = pd.concat([train_df, test_df])"
   ]
  },
  {
   "cell_type": "code",
   "execution_count": 7,
   "id": "1c190b56-a4a7-4e79-84a0-e25062b68fe4",
   "metadata": {},
   "outputs": [
    {
     "data": {
      "text/html": [
       "<style type=\"text/css\">\n",
       "#T_026b1_row0_col2, #T_026b1_row0_col5 {\n",
       "  background-color: #023858;\n",
       "  color: #f1f1f1;\n",
       "}\n",
       "#T_026b1_row1_col2, #T_026b1_row1_col5, #T_026b1_row2_col2, #T_026b1_row2_col5, #T_026b1_row3_col2, #T_026b1_row3_col5, #T_026b1_row4_col2, #T_026b1_row4_col5, #T_026b1_row6_col2, #T_026b1_row6_col5, #T_026b1_row7_col2, #T_026b1_row7_col5, #T_026b1_row8_col2, #T_026b1_row8_col5 {\n",
       "  background-color: #fff7fb;\n",
       "  color: #000000;\n",
       "}\n",
       "#T_026b1_row5_col2 {\n",
       "  background-color: #e5e1ef;\n",
       "  color: #000000;\n",
       "}\n",
       "#T_026b1_row5_col5 {\n",
       "  background-color: #e3e0ee;\n",
       "  color: #000000;\n",
       "}\n",
       "</style>\n",
       "<table id=\"T_026b1_\">\n",
       "  <thead>\n",
       "    <tr>\n",
       "      <th class=\"blank level0\" >&nbsp;</th>\n",
       "      <th class=\"col_heading level0 col0\" >count</th>\n",
       "      <th class=\"col_heading level0 col1\" >mean</th>\n",
       "      <th class=\"col_heading level0 col2\" >std</th>\n",
       "      <th class=\"col_heading level0 col3\" >min</th>\n",
       "      <th class=\"col_heading level0 col4\" >25%</th>\n",
       "      <th class=\"col_heading level0 col5\" >50%</th>\n",
       "      <th class=\"col_heading level0 col6\" >75%</th>\n",
       "      <th class=\"col_heading level0 col7\" >max</th>\n",
       "    </tr>\n",
       "  </thead>\n",
       "  <tbody>\n",
       "    <tr>\n",
       "      <th id=\"T_026b1_level0_row0\" class=\"row_heading level0 row0\" >id</th>\n",
       "      <td id=\"T_026b1_row0_col0\" class=\"data row0 col0\" >762218.000000</td>\n",
       "      <td id=\"T_026b1_row0_col1\" class=\"data row0 col1\" >190555.000000</td>\n",
       "      <td id=\"T_026b1_row0_col2\" class=\"data row0 col2\" >110016.764039</td>\n",
       "      <td id=\"T_026b1_row0_col3\" class=\"data row0 col3\" >1.000000</td>\n",
       "      <td id=\"T_026b1_row0_col4\" class=\"data row0 col4\" >95278.000000</td>\n",
       "      <td id=\"T_026b1_row0_col5\" class=\"data row0 col5\" >190555.000000</td>\n",
       "      <td id=\"T_026b1_row0_col6\" class=\"data row0 col6\" >285832.000000</td>\n",
       "      <td id=\"T_026b1_row0_col7\" class=\"data row0 col7\" >381109.000000</td>\n",
       "    </tr>\n",
       "    <tr>\n",
       "      <th id=\"T_026b1_level0_row1\" class=\"row_heading level0 row1\" >Age</th>\n",
       "      <td id=\"T_026b1_row1_col0\" class=\"data row1 col0\" >762218.000000</td>\n",
       "      <td id=\"T_026b1_row1_col1\" class=\"data row1 col1\" >38.822584</td>\n",
       "      <td id=\"T_026b1_row1_col2\" class=\"data row1 col2\" >15.511601</td>\n",
       "      <td id=\"T_026b1_row1_col3\" class=\"data row1 col3\" >20.000000</td>\n",
       "      <td id=\"T_026b1_row1_col4\" class=\"data row1 col4\" >25.000000</td>\n",
       "      <td id=\"T_026b1_row1_col5\" class=\"data row1 col5\" >36.000000</td>\n",
       "      <td id=\"T_026b1_row1_col6\" class=\"data row1 col6\" >49.000000</td>\n",
       "      <td id=\"T_026b1_row1_col7\" class=\"data row1 col7\" >85.000000</td>\n",
       "    </tr>\n",
       "    <tr>\n",
       "      <th id=\"T_026b1_level0_row2\" class=\"row_heading level0 row2\" >Driving_License</th>\n",
       "      <td id=\"T_026b1_row2_col0\" class=\"data row2 col0\" >762218.000000</td>\n",
       "      <td id=\"T_026b1_row2_col1\" class=\"data row2 col1\" >0.997869</td>\n",
       "      <td id=\"T_026b1_row2_col2\" class=\"data row2 col2\" >0.046110</td>\n",
       "      <td id=\"T_026b1_row2_col3\" class=\"data row2 col3\" >0.000000</td>\n",
       "      <td id=\"T_026b1_row2_col4\" class=\"data row2 col4\" >1.000000</td>\n",
       "      <td id=\"T_026b1_row2_col5\" class=\"data row2 col5\" >1.000000</td>\n",
       "      <td id=\"T_026b1_row2_col6\" class=\"data row2 col6\" >1.000000</td>\n",
       "      <td id=\"T_026b1_row2_col7\" class=\"data row2 col7\" >1.000000</td>\n",
       "    </tr>\n",
       "    <tr>\n",
       "      <th id=\"T_026b1_level0_row3\" class=\"row_heading level0 row3\" >Region_Code</th>\n",
       "      <td id=\"T_026b1_row3_col0\" class=\"data row3 col0\" >762218.000000</td>\n",
       "      <td id=\"T_026b1_row3_col1\" class=\"data row3 col1\" >26.388807</td>\n",
       "      <td id=\"T_026b1_row3_col2\" class=\"data row3 col2\" >13.229879</td>\n",
       "      <td id=\"T_026b1_row3_col3\" class=\"data row3 col3\" >0.000000</td>\n",
       "      <td id=\"T_026b1_row3_col4\" class=\"data row3 col4\" >15.000000</td>\n",
       "      <td id=\"T_026b1_row3_col5\" class=\"data row3 col5\" >28.000000</td>\n",
       "      <td id=\"T_026b1_row3_col6\" class=\"data row3 col6\" >35.000000</td>\n",
       "      <td id=\"T_026b1_row3_col7\" class=\"data row3 col7\" >52.000000</td>\n",
       "    </tr>\n",
       "    <tr>\n",
       "      <th id=\"T_026b1_level0_row4\" class=\"row_heading level0 row4\" >Previously_Insured</th>\n",
       "      <td id=\"T_026b1_row4_col0\" class=\"data row4 col0\" >762218.000000</td>\n",
       "      <td id=\"T_026b1_row4_col1\" class=\"data row4 col1\" >0.458210</td>\n",
       "      <td id=\"T_026b1_row4_col2\" class=\"data row4 col2\" >0.498251</td>\n",
       "      <td id=\"T_026b1_row4_col3\" class=\"data row4 col3\" >0.000000</td>\n",
       "      <td id=\"T_026b1_row4_col4\" class=\"data row4 col4\" >0.000000</td>\n",
       "      <td id=\"T_026b1_row4_col5\" class=\"data row4 col5\" >0.000000</td>\n",
       "      <td id=\"T_026b1_row4_col6\" class=\"data row4 col6\" >1.000000</td>\n",
       "      <td id=\"T_026b1_row4_col7\" class=\"data row4 col7\" >1.000000</td>\n",
       "    </tr>\n",
       "    <tr>\n",
       "      <th id=\"T_026b1_level0_row5\" class=\"row_heading level0 row5\" >Annual_Premium</th>\n",
       "      <td id=\"T_026b1_row5_col0\" class=\"data row5 col0\" >762218.000000</td>\n",
       "      <td id=\"T_026b1_row5_col1\" class=\"data row5 col1\" >30564.389581</td>\n",
       "      <td id=\"T_026b1_row5_col2\" class=\"data row5 col2\" >17213.143765</td>\n",
       "      <td id=\"T_026b1_row5_col3\" class=\"data row5 col3\" >2630.000000</td>\n",
       "      <td id=\"T_026b1_row5_col4\" class=\"data row5 col4\" >24405.000000</td>\n",
       "      <td id=\"T_026b1_row5_col5\" class=\"data row5 col5\" >31669.000000</td>\n",
       "      <td id=\"T_026b1_row5_col6\" class=\"data row5 col6\" >39400.000000</td>\n",
       "      <td id=\"T_026b1_row5_col7\" class=\"data row5 col7\" >540165.000000</td>\n",
       "    </tr>\n",
       "    <tr>\n",
       "      <th id=\"T_026b1_level0_row6\" class=\"row_heading level0 row6\" >Policy_Sales_Channel</th>\n",
       "      <td id=\"T_026b1_row6_col0\" class=\"data row6 col0\" >762218.000000</td>\n",
       "      <td id=\"T_026b1_row6_col1\" class=\"data row6 col1\" >112.034295</td>\n",
       "      <td id=\"T_026b1_row6_col2\" class=\"data row6 col2\" >54.203959</td>\n",
       "      <td id=\"T_026b1_row6_col3\" class=\"data row6 col3\" >1.000000</td>\n",
       "      <td id=\"T_026b1_row6_col4\" class=\"data row6 col4\" >29.000000</td>\n",
       "      <td id=\"T_026b1_row6_col5\" class=\"data row6 col5\" >133.000000</td>\n",
       "      <td id=\"T_026b1_row6_col6\" class=\"data row6 col6\" >152.000000</td>\n",
       "      <td id=\"T_026b1_row6_col7\" class=\"data row6 col7\" >163.000000</td>\n",
       "    </tr>\n",
       "    <tr>\n",
       "      <th id=\"T_026b1_level0_row7\" class=\"row_heading level0 row7\" >Vintage</th>\n",
       "      <td id=\"T_026b1_row7_col0\" class=\"data row7 col0\" >762218.000000</td>\n",
       "      <td id=\"T_026b1_row7_col1\" class=\"data row7 col1\" >154.347397</td>\n",
       "      <td id=\"T_026b1_row7_col2\" class=\"data row7 col2\" >83.671249</td>\n",
       "      <td id=\"T_026b1_row7_col3\" class=\"data row7 col3\" >10.000000</td>\n",
       "      <td id=\"T_026b1_row7_col4\" class=\"data row7 col4\" >82.000000</td>\n",
       "      <td id=\"T_026b1_row7_col5\" class=\"data row7 col5\" >154.000000</td>\n",
       "      <td id=\"T_026b1_row7_col6\" class=\"data row7 col6\" >227.000000</td>\n",
       "      <td id=\"T_026b1_row7_col7\" class=\"data row7 col7\" >299.000000</td>\n",
       "    </tr>\n",
       "    <tr>\n",
       "      <th id=\"T_026b1_level0_row8\" class=\"row_heading level0 row8\" >Response</th>\n",
       "      <td id=\"T_026b1_row8_col0\" class=\"data row8 col0\" >762218.000000</td>\n",
       "      <td id=\"T_026b1_row8_col1\" class=\"data row8 col1\" >0.122563</td>\n",
       "      <td id=\"T_026b1_row8_col2\" class=\"data row8 col2\" >0.327936</td>\n",
       "      <td id=\"T_026b1_row8_col3\" class=\"data row8 col3\" >0.000000</td>\n",
       "      <td id=\"T_026b1_row8_col4\" class=\"data row8 col4\" >0.000000</td>\n",
       "      <td id=\"T_026b1_row8_col5\" class=\"data row8 col5\" >0.000000</td>\n",
       "      <td id=\"T_026b1_row8_col6\" class=\"data row8 col6\" >0.000000</td>\n",
       "      <td id=\"T_026b1_row8_col7\" class=\"data row8 col7\" >1.000000</td>\n",
       "    </tr>\n",
       "  </tbody>\n",
       "</table>\n"
      ],
      "text/plain": [
       "<pandas.io.formats.style.Styler at 0x22396d5bc88>"
      ]
     },
     "execution_count": 7,
     "metadata": {},
     "output_type": "execute_result"
    }
   ],
   "source": [
    "combined_df.describe().T.style.background_gradient(\n",
    "    subset=['std'], cmap='PuBu').background_gradient(subset=['50%'], cmap='PuBu')"
   ]
  },
  {
   "cell_type": "markdown",
   "id": "45b0c570-13fc-4bd0-aea4-83f1e99627a6",
   "metadata": {},
   "source": [
    "Drop ID column as it does not add any useful information "
   ]
  },
  {
   "cell_type": "code",
   "execution_count": 8,
   "id": "8a6b67b5-7309-4ca2-9fc3-4bba4b212456",
   "metadata": {},
   "outputs": [],
   "source": [
    "#combined_df.drop('id',axis=1,inplace=True)\n",
    "#train_df.drop('id',axis=1,inplace=True)\n",
    "#test_df.drop('id',axis=1,inplace=True)"
   ]
  },
  {
   "cell_type": "markdown",
   "id": "2abea2a0-f552-4009-8463-bbe7c0b20ab3",
   "metadata": {},
   "source": [
    "Convert cateforic columns to the correct datatype"
   ]
  },
  {
   "cell_type": "code",
   "execution_count": 9,
   "id": "fd1e0b1e-cb8e-4094-813f-4143e64af6b1",
   "metadata": {},
   "outputs": [],
   "source": [
    "combined_df[[\"Region_Code\",\"Policy_Sales_Channel\"]] = combined_df[[\"Region_Code\",\"Policy_Sales_Channel\"]].astype('int').astype(\"object\")\n",
    "train_df[[\"Region_Code\",\"Policy_Sales_Channel\"]] = train_df[[\"Region_Code\",\"Policy_Sales_Channel\"]].astype('int').astype(\"object\")\n",
    "test_df[[\"Region_Code\",\"Policy_Sales_Channel\"]] = test_df[[\"Region_Code\",\"Policy_Sales_Channel\"]].astype('int').astype(\"object\")"
   ]
  },
  {
   "cell_type": "markdown",
   "id": "d8460d43-87a8-4599-9f69-9cc0d74f011b",
   "metadata": {
    "tags": []
   },
   "source": [
    "#### Data quality checks "
   ]
  },
  {
   "cell_type": "code",
   "execution_count": 10,
   "id": "3d522a0b-263b-4e39-9df7-601c57e7ae4f",
   "metadata": {},
   "outputs": [
    {
     "data": {
      "text/plain": [
       "id                      0\n",
       "Gender                  0\n",
       "Age                     0\n",
       "Driving_License         0\n",
       "Region_Code             0\n",
       "Previously_Insured      0\n",
       "Vehicle_Age             0\n",
       "Vehicle_Damage          0\n",
       "Annual_Premium          0\n",
       "Policy_Sales_Channel    0\n",
       "Vintage                 0\n",
       "Response                0\n",
       "type                    0\n",
       "dtype: int64"
      ]
     },
     "execution_count": 10,
     "metadata": {},
     "output_type": "execute_result"
    }
   ],
   "source": [
    "train_df.isnull().sum()"
   ]
  },
  {
   "cell_type": "code",
   "execution_count": 11,
   "id": "2f34cc9a-3e44-434e-8e57-d0d83738171b",
   "metadata": {},
   "outputs": [
    {
     "data": {
      "text/plain": [
       "id                      381109\n",
       "Gender                       2\n",
       "Age                         66\n",
       "Driving_License              2\n",
       "Region_Code                 53\n",
       "Previously_Insured           2\n",
       "Vehicle_Age                  3\n",
       "Vehicle_Damage               2\n",
       "Annual_Premium           48838\n",
       "Policy_Sales_Channel       155\n",
       "Vintage                    290\n",
       "Response                     2\n",
       "type                         1\n",
       "dtype: int64"
      ]
     },
     "execution_count": 11,
     "metadata": {},
     "output_type": "execute_result"
    }
   ],
   "source": [
    "train_df.nunique()"
   ]
  },
  {
   "cell_type": "code",
   "execution_count": 12,
   "id": "761f77d8-2ed9-4c08-a54b-2076472b7f56",
   "metadata": {},
   "outputs": [
    {
     "data": {
      "text/plain": [
       "False    381109\n",
       "dtype: int64"
      ]
     },
     "execution_count": 12,
     "metadata": {},
     "output_type": "execute_result"
    }
   ],
   "source": [
    "train_df.duplicated().value_counts()"
   ]
  },
  {
   "cell_type": "code",
   "execution_count": 13,
   "id": "05cb0f3c-2425-4e9a-822c-ebd93218043e",
   "metadata": {},
   "outputs": [
    {
     "data": {
      "text/plain": [
       "False    381109\n",
       "dtype: int64"
      ]
     },
     "execution_count": 13,
     "metadata": {},
     "output_type": "execute_result"
    }
   ],
   "source": [
    "test_df.duplicated().value_counts()"
   ]
  },
  {
   "cell_type": "markdown",
   "id": "cf4f36a9-0610-443f-bb35-904aeec158bc",
   "metadata": {},
   "source": [
    "No nulls - no duplicates "
   ]
  },
  {
   "cell_type": "markdown",
   "id": "03abd31e-e540-4397-91a3-f3cc6cf82902",
   "metadata": {
    "tags": []
   },
   "source": [
    "#### Target Variable "
   ]
  },
  {
   "cell_type": "code",
   "execution_count": 14,
   "id": "4baa5086-d42a-434f-90a9-57b9ff66b3b6",
   "metadata": {},
   "outputs": [
    {
     "data": {
      "image/png": "[encoded data removed]",
      "text/plain": [
       "<Figure size 1300x300 with 2 Axes>"
      ]
     },
     "metadata": {
      "needs_background": "light"
     },
     "output_type": "display_data"
    }
   ],
   "source": [
    "fig, axes = plt.subplots(ncols = 2, figsize = (13, 3), dpi = 100)\n",
    "plt.tight_layout()\n",
    "\n",
    "train_df.groupby('Response').count()['id'].plot(kind = 'pie', ax = axes[0], labels = ['Interested (87.7%)', 'Not Interested (12.1%)'])\n",
    "res = sns.countplot(x = train_df['Response'], hue = train_df['Response'], ax = axes[1])\n",
    "\n",
    "axes[0].set_ylabel('')\n",
    "axes[1].set_ylabel('')\n",
    "axes[1].set_xticklabels(['Interested (87.7%)', 'Not Interested (12.1%)'])\n",
    "axes[0].tick_params(axis = 'x', labelsize = 8)\n",
    "axes[0].tick_params(axis = 'y', labelsize = 8)\n",
    "axes[1].tick_params(axis = 'x', labelsize = 8)\n",
    "axes[1].tick_params(axis = 'y', labelsize = 8)\n",
    "\n",
    "for container in res.containers:\n",
    "    res.bar_label(container)\n",
    "\n",
    "axes[0].set_title('Label Distribution in Training Set', fontsize = 8)\n",
    "axes[1].set_title('Label Count in Training Set', fontsize =8)\n",
    "\n",
    "plt.show()"
   ]
  },
  {
   "cell_type": "markdown",
   "id": "fc3da983-8e81-4d59-aee0-b2157ed61f0d",
   "metadata": {},
   "source": [
    "Comment : \n",
    "We can observe that the target feature i.e whether a health insuance holder would be a vehicle insurance, is highly imbalanced, with 87% of health insurance holders not having purchased a vehicle insurance."
   ]
  },
  {
   "cell_type": "code",
   "execution_count": 15,
   "id": "f7b08cb3-2847-43d3-a3ad-02919af6309e",
   "metadata": {},
   "outputs": [],
   "source": [
    "categorical_columns=[['Gender','Driving_License','Previously_Insured','Vehicle_Age','Vehicle_Damage','Response']]"
   ]
  },
  {
   "cell_type": "markdown",
   "id": "ee4abd62-eed2-4f8b-bd27-68c98e7b1154",
   "metadata": {
    "tags": []
   },
   "source": [
    "#### Analyse the numeric features in the dataset "
   ]
  },
  {
   "cell_type": "code",
   "execution_count": 16,
   "id": "16f93f10-a8d3-4b92-adbe-0addfff90790",
   "metadata": {},
   "outputs": [],
   "source": [
    "numerical_cols = ['Age','Annual_Premium','Vintage']"
   ]
  },
  {
   "cell_type": "code",
   "execution_count": 17,
   "id": "06a167d1-4378-4cbd-92bf-c83b70f0aca2",
   "metadata": {},
   "outputs": [
    {
     "data": {
      "text/html": [
       "<div>\n",
       "<style scoped>\n",
       "    .dataframe tbody tr th:only-of-type {\n",
       "        vertical-align: middle;\n",
       "    }\n",
       "\n",
       "    .dataframe tbody tr th {\n",
       "        vertical-align: top;\n",
       "    }\n",
       "\n",
       "    .dataframe thead th {\n",
       "        text-align: right;\n",
       "    }\n",
       "</style>\n",
       "<table border=\"1\" class=\"dataframe\">\n",
       "  <thead>\n",
       "    <tr style=\"text-align: right;\">\n",
       "      <th></th>\n",
       "      <th>count</th>\n",
       "      <th>mean</th>\n",
       "      <th>std</th>\n",
       "      <th>min</th>\n",
       "      <th>25%</th>\n",
       "      <th>50%</th>\n",
       "      <th>75%</th>\n",
       "      <th>max</th>\n",
       "    </tr>\n",
       "  </thead>\n",
       "  <tbody>\n",
       "    <tr>\n",
       "      <th>Age</th>\n",
       "      <td>762218.0</td>\n",
       "      <td>38.822584</td>\n",
       "      <td>15.511601</td>\n",
       "      <td>20.0</td>\n",
       "      <td>25.0</td>\n",
       "      <td>36.0</td>\n",
       "      <td>49.0</td>\n",
       "      <td>85.0</td>\n",
       "    </tr>\n",
       "    <tr>\n",
       "      <th>Annual_Premium</th>\n",
       "      <td>762218.0</td>\n",
       "      <td>30564.389581</td>\n",
       "      <td>17213.143765</td>\n",
       "      <td>2630.0</td>\n",
       "      <td>24405.0</td>\n",
       "      <td>31669.0</td>\n",
       "      <td>39400.0</td>\n",
       "      <td>540165.0</td>\n",
       "    </tr>\n",
       "    <tr>\n",
       "      <th>Vintage</th>\n",
       "      <td>762218.0</td>\n",
       "      <td>154.347397</td>\n",
       "      <td>83.671249</td>\n",
       "      <td>10.0</td>\n",
       "      <td>82.0</td>\n",
       "      <td>154.0</td>\n",
       "      <td>227.0</td>\n",
       "      <td>299.0</td>\n",
       "    </tr>\n",
       "  </tbody>\n",
       "</table>\n",
       "</div>"
      ],
      "text/plain": [
       "                   count          mean           std     min      25%  \\\n",
       "Age             762218.0     38.822584     15.511601    20.0     25.0   \n",
       "Annual_Premium  762218.0  30564.389581  17213.143765  2630.0  24405.0   \n",
       "Vintage         762218.0    154.347397     83.671249    10.0     82.0   \n",
       "\n",
       "                    50%      75%       max  \n",
       "Age                36.0     49.0      85.0  \n",
       "Annual_Premium  31669.0  39400.0  540165.0  \n",
       "Vintage           154.0    227.0     299.0  "
      ]
     },
     "execution_count": 17,
     "metadata": {},
     "output_type": "execute_result"
    }
   ],
   "source": [
    "combined_df[numerical_cols].describe().T"
   ]
  },
  {
   "cell_type": "code",
   "execution_count": 18,
   "id": "a69bb157-165f-43f4-8e02-6538852e813d",
   "metadata": {},
   "outputs": [
    {
     "data": {
      "text/html": [
       "<div>\n",
       "<style scoped>\n",
       "    .dataframe tbody tr th:only-of-type {\n",
       "        vertical-align: middle;\n",
       "    }\n",
       "\n",
       "    .dataframe tbody tr th {\n",
       "        vertical-align: top;\n",
       "    }\n",
       "\n",
       "    .dataframe thead th {\n",
       "        text-align: right;\n",
       "    }\n",
       "</style>\n",
       "<table border=\"1\" class=\"dataframe\">\n",
       "  <thead>\n",
       "    <tr style=\"text-align: right;\">\n",
       "      <th></th>\n",
       "      <th>Skewed Values</th>\n",
       "    </tr>\n",
       "  </thead>\n",
       "  <tbody>\n",
       "    <tr>\n",
       "      <th>Age</th>\n",
       "      <td>0.672538</td>\n",
       "    </tr>\n",
       "    <tr>\n",
       "      <th>Annual_Premium</th>\n",
       "      <td>1.766084</td>\n",
       "    </tr>\n",
       "    <tr>\n",
       "      <th>Vintage</th>\n",
       "      <td>0.003030</td>\n",
       "    </tr>\n",
       "  </tbody>\n",
       "</table>\n",
       "</div>"
      ],
      "text/plain": [
       "                Skewed Values\n",
       "Age                  0.672538\n",
       "Annual_Premium       1.766084\n",
       "Vintage              0.003030"
      ]
     },
     "execution_count": 18,
     "metadata": {},
     "output_type": "execute_result"
    }
   ],
   "source": [
    "combined_df[numerical_cols].skew(axis=0).to_frame('Skewed Values')"
   ]
  },
  {
   "cell_type": "markdown",
   "id": "1e062c2e-8827-426f-8adb-067bb3b56811",
   "metadata": {
    "tags": []
   },
   "source": [
    "##### Feature : Age "
   ]
  },
  {
   "cell_type": "code",
   "execution_count": 19,
   "id": "2b1feb8c-17d4-4d91-aa72-b732fdf2dbb2",
   "metadata": {},
   "outputs": [
    {
     "name": "stderr",
     "output_type": "stream",
     "text": [
      "c:\\dev\\.conda\\envs\\jupyter-lab\\lib\\site-packages\\seaborn\\distributions.py:2619: FutureWarning: `distplot` is a deprecated function and will be removed in a future version. Please adapt your code to use either `displot` (a figure-level function with similar flexibility) or `histplot` (an axes-level function for histograms).\n",
      "  warnings.warn(msg, FutureWarning)\n"
     ]
    },
    {
     "data": {
      "text/plain": [
       "Text(0.5, 1.0, 'Distribution of Age')"
      ]
     },
     "execution_count": 19,
     "metadata": {},
     "output_type": "execute_result"
    },
    {
     "data": {
      "image/png": "[encoded data removed]",
      "text/plain": [
       "<Figure size 432x288 with 1 Axes>"
      ]
     },
     "metadata": {
      "needs_background": "light"
     },
     "output_type": "display_data"
    }
   ],
   "source": [
    "sns.distplot(x= combined_df.Age)\n",
    "plt.title('Distribution of Age' )"
   ]
  },
  {
   "cell_type": "code",
   "execution_count": 20,
   "id": "26ddf4ab-41d5-47a5-a044-16bbf7bee11c",
   "metadata": {},
   "outputs": [
    {
     "data": {
      "image/png": "[encoded data removed]",
      "text/plain": [
       "<Figure size 432x288 with 1 Axes>"
      ]
     },
     "metadata": {
      "needs_background": "light"
     },
     "output_type": "display_data"
    }
   ],
   "source": [
    "sns.boxplot(x=combined_df['Response'],\n",
    "        y = combined_df['Age'], \n",
    "        data = combined_df,palette='Accent',\n",
    "            showmeans=True,\n",
    "                    meanprops={\"marker\": \"+\",\n",
    "                        \"markeredgecolor\": \"black\",\n",
    "                        \"markersize\": \"10\"})\n",
    "\n",
    "plt.title('Box plot showing the distribution of Age' )\n",
    "plt.show()\n"
   ]
  },
  {
   "cell_type": "code",
   "execution_count": 21,
   "id": "6bcb7383-ce72-4be9-aa05-7d331cbce763",
   "metadata": {},
   "outputs": [
    {
     "data": {
      "text/html": [
       "<div>\n",
       "<style scoped>\n",
       "    .dataframe tbody tr th:only-of-type {\n",
       "        vertical-align: middle;\n",
       "    }\n",
       "\n",
       "    .dataframe tbody tr th {\n",
       "        vertical-align: top;\n",
       "    }\n",
       "\n",
       "    .dataframe thead th {\n",
       "        text-align: right;\n",
       "    }\n",
       "</style>\n",
       "<table border=\"1\" class=\"dataframe\">\n",
       "  <thead>\n",
       "    <tr style=\"text-align: right;\">\n",
       "      <th></th>\n",
       "      <th>count</th>\n",
       "      <th>mean</th>\n",
       "      <th>std</th>\n",
       "      <th>min</th>\n",
       "      <th>25%</th>\n",
       "      <th>50%</th>\n",
       "      <th>75%</th>\n",
       "      <th>max</th>\n",
       "    </tr>\n",
       "    <tr>\n",
       "      <th>Response</th>\n",
       "      <th></th>\n",
       "      <th></th>\n",
       "      <th></th>\n",
       "      <th></th>\n",
       "      <th></th>\n",
       "      <th></th>\n",
       "      <th></th>\n",
       "      <th></th>\n",
       "    </tr>\n",
       "  </thead>\n",
       "  <tbody>\n",
       "    <tr>\n",
       "      <th>0</th>\n",
       "      <td>668798.0</td>\n",
       "      <td>38.178227</td>\n",
       "      <td>15.816040</td>\n",
       "      <td>20.0</td>\n",
       "      <td>24.0</td>\n",
       "      <td>34.0</td>\n",
       "      <td>49.0</td>\n",
       "      <td>85.0</td>\n",
       "    </tr>\n",
       "    <tr>\n",
       "      <th>1</th>\n",
       "      <td>93420.0</td>\n",
       "      <td>43.435560</td>\n",
       "      <td>12.168859</td>\n",
       "      <td>20.0</td>\n",
       "      <td>35.0</td>\n",
       "      <td>43.0</td>\n",
       "      <td>51.0</td>\n",
       "      <td>83.0</td>\n",
       "    </tr>\n",
       "  </tbody>\n",
       "</table>\n",
       "</div>"
      ],
      "text/plain": [
       "             count       mean        std   min   25%   50%   75%   max\n",
       "Response                                                              \n",
       "0         668798.0  38.178227  15.816040  20.0  24.0  34.0  49.0  85.0\n",
       "1          93420.0  43.435560  12.168859  20.0  35.0  43.0  51.0  83.0"
      ]
     },
     "execution_count": 21,
     "metadata": {},
     "output_type": "execute_result"
    }
   ],
   "source": [
    "combined_df.groupby('Response')['Age'].describe()"
   ]
  },
  {
   "cell_type": "code",
   "execution_count": 22,
   "id": "36face16-bca2-4e37-a07e-01b2cbe24e3b",
   "metadata": {},
   "outputs": [
    {
     "data": {
      "text/plain": [
       "Response\n",
       "0    34.0\n",
       "1    43.0\n",
       "Name: Age, dtype: float64"
      ]
     },
     "execution_count": 22,
     "metadata": {},
     "output_type": "execute_result"
    }
   ],
   "source": [
    "combined_df.groupby('Response')['Age'].median()"
   ]
  },
  {
   "cell_type": "markdown",
   "id": "735862c0-694d-401c-b31d-c52b03bb010a",
   "metadata": {},
   "source": [
    "Comment : \n",
    "- Most insurance holders are between 20-30. \n",
    "- The dist plot shows a slight bi-modal distribution - A larger number of holders found in the 40-50 years age bracket. \n",
    "- The mean and median age is higher for owners interested in vehicle insurance. \n",
    "   - Response variable 1 : { Mean : 43 , Median : 43 } , 0 : { Mean : 38 , Median : 43 } "
   ]
  },
  {
   "cell_type": "code",
   "execution_count": 23,
   "id": "c4747fa5-5ccd-473e-ae46-b4e3edc6516f",
   "metadata": {},
   "outputs": [
    {
     "name": "stderr",
     "output_type": "stream",
     "text": [
      "c:\\dev\\.conda\\envs\\jupyter-lab\\lib\\site-packages\\seaborn\\distributions.py:2619: FutureWarning: `distplot` is a deprecated function and will be removed in a future version. Please adapt your code to use either `displot` (a figure-level function with similar flexibility) or `histplot` (an axes-level function for histograms).\n",
      "  warnings.warn(msg, FutureWarning)\n",
      "c:\\dev\\.conda\\envs\\jupyter-lab\\lib\\site-packages\\seaborn\\distributions.py:2619: FutureWarning: `distplot` is a deprecated function and will be removed in a future version. Please adapt your code to use either `displot` (a figure-level function with similar flexibility) or `histplot` (an axes-level function for histograms).\n",
      "  warnings.warn(msg, FutureWarning)\n"
     ]
    },
    {
     "data": {
      "image/png": "[encoded data removed]",
      "text/plain": [
       "<Figure size 1080x432 with 1 Axes>"
      ]
     },
     "metadata": {
      "needs_background": "light"
     },
     "output_type": "display_data"
    }
   ],
   "source": [
    "plt.figure(figsize = (15, 6))\n",
    "sns.distplot(combined_df.loc[(combined_df['Driving_License'] == 0), 'Age'], kde_kws = {\"color\": \"b\", \"lw\": 1, \"label\": \"Not Licensed for driving\"})\n",
    "sns.distplot(combined_df.loc[(combined_df['Driving_License'] == 1), 'Age'], kde_kws = {\"color\": \"r\", \"lw\": 1, \"label\": \"Licensed for Driving\"})\n",
    "plt.title('Age distribution by Driving License', fontsize = 15)\n",
    "plt.show()"
   ]
  },
  {
   "cell_type": "code",
   "execution_count": 24,
   "id": "3a5667df-57c7-401a-9a77-30ae10c7c783",
   "metadata": {},
   "outputs": [
    {
     "data": {
      "text/plain": [
       "<Figure size 576x432 with 0 Axes>"
      ]
     },
     "metadata": {},
     "output_type": "display_data"
    },
    {
     "data": {
      "image/png": "[encoded data removed]",
      "text/plain": [
       "<Figure size 432x432 with 3 Axes>"
      ]
     },
     "metadata": {
      "needs_background": "light"
     },
     "output_type": "display_data"
    }
   ],
   "source": [
    "# Plotting jointplot of Age Vs driving license\n",
    "plt.figure(figsize=(8,6))\n",
    "sns.jointplot(x='Age', y='Driving_License', data=((combined_df[combined_df['Driving_License']==1]).groupby('Age')['Driving_License'].sum() / combined_df.groupby('Age')['Driving_License'].count()).reset_index());"
   ]
  },
  {
   "cell_type": "code",
   "execution_count": 25,
   "id": "4225f696-288b-4077-8c6c-d6a3f7b62a77",
   "metadata": {},
   "outputs": [
    {
     "data": {
      "text/plain": [
       "<Figure size 576x432 with 0 Axes>"
      ]
     },
     "metadata": {},
     "output_type": "display_data"
    },
    {
     "data": {
      "image/png": "[encoded data removed]",
      "text/plain": [
       "<Figure size 432x432 with 3 Axes>"
      ]
     },
     "metadata": {
      "needs_background": "light"
     },
     "output_type": "display_data"
    }
   ],
   "source": [
    "plt.figure(figsize=(8,6))\n",
    "sns.jointplot(x='Age', y='Previously_Insured', data=((combined_df[combined_df['Previously_Insured']==1]).groupby('Age')['Previously_Insured'].sum() / combined_df.groupby('Age')['Previously_Insured'].count()).reset_index());"
   ]
  },
  {
   "cell_type": "markdown",
   "id": "3d6157b1-9bab-405a-a431-0d77c93651ce",
   "metadata": {},
   "source": [
    "##### Feature : Annual Premium "
   ]
  },
  {
   "cell_type": "code",
   "execution_count": 26,
   "id": "b6ef0e05-11c5-4a59-9cdb-9bae3e42b258",
   "metadata": {},
   "outputs": [
    {
     "data": {
      "text/plain": [
       "<AxesSubplot:xlabel='Age', ylabel='Annual_Premium'>"
      ]
     },
     "execution_count": 26,
     "metadata": {},
     "output_type": "execute_result"
    },
    {
     "data": {
      "image/png": "[encoded data removed]",
      "text/plain": [
       "<Figure size 432x288 with 1 Axes>"
      ]
     },
     "metadata": {
      "needs_background": "light"
     },
     "output_type": "display_data"
    }
   ],
   "source": [
    "sns.scatterplot(x=combined_df['Age'],y=combined_df['Annual_Premium'])"
   ]
  },
  {
   "cell_type": "code",
   "execution_count": 27,
   "id": "9f4309df-c645-4a14-9fb6-76227a303990",
   "metadata": {},
   "outputs": [
    {
     "name": "stderr",
     "output_type": "stream",
     "text": [
      "c:\\dev\\.conda\\envs\\jupyter-lab\\lib\\site-packages\\seaborn\\distributions.py:2619: FutureWarning: `distplot` is a deprecated function and will be removed in a future version. Please adapt your code to use either `displot` (a figure-level function with similar flexibility) or `histplot` (an axes-level function for histograms).\n",
      "  warnings.warn(msg, FutureWarning)\n"
     ]
    },
    {
     "data": {
      "image/png": "[encoded data removed]",
      "text/plain": [
       "<Figure size 576x360 with 1 Axes>"
      ]
     },
     "metadata": {
      "needs_background": "light"
     },
     "output_type": "display_data"
    }
   ],
   "source": [
    "plt.figure(figsize = (8, 5))\n",
    "sns.distplot(combined_df['Annual_Premium'])\n",
    "plt.title('Annual Premium distribution (Highly skewed to the right)', fontsize = 15)\n",
    "plt.show()"
   ]
  },
  {
   "cell_type": "code",
   "execution_count": 28,
   "id": "e651c4d9-1f07-4948-8d59-b3a4a6d08f94",
   "metadata": {},
   "outputs": [
    {
     "name": "stderr",
     "output_type": "stream",
     "text": [
      "c:\\dev\\.conda\\envs\\jupyter-lab\\lib\\site-packages\\seaborn\\distributions.py:2619: FutureWarning: `distplot` is a deprecated function and will be removed in a future version. Please adapt your code to use either `displot` (a figure-level function with similar flexibility) or `histplot` (an axes-level function for histograms).\n",
      "  warnings.warn(msg, FutureWarning)\n"
     ]
    },
    {
     "data": {
      "image/png": "[encoded data removed]",
      "text/plain": [
       "<Figure size 432x288 with 1 Axes>"
      ]
     },
     "metadata": {
      "needs_background": "light"
     },
     "output_type": "display_data"
    }
   ],
   "source": [
    "sns.distplot(x=np.log10(combined_df['Annual_Premium']));"
   ]
  },
  {
   "cell_type": "code",
   "execution_count": 29,
   "id": "7d061f52-3432-4817-a267-69ef3c65d83f",
   "metadata": {},
   "outputs": [
    {
     "data": {
      "image/png": "[encoded data removed]",
      "text/plain": [
       "<Figure size 432x288 with 1 Axes>"
      ]
     },
     "metadata": {
      "needs_background": "light"
     },
     "output_type": "display_data"
    }
   ],
   "source": [
    "sns.boxplot(x=combined_df['Response'],\n",
    "        y = combined_df['Annual_Premium'], \n",
    "        data = combined_df,palette='Accent',\n",
    "            showmeans=True,\n",
    "                    meanprops={\"marker\": \"+\",\n",
    "                        \"markeredgecolor\": \"black\",\n",
    "                        \"markersize\": \"10\"})\n",
    "\n",
    "plt.title('Box plot showing the distribution of Annual Premium Cost' )\n",
    "plt.semilogy()\n",
    "plt.show()"
   ]
  },
  {
   "cell_type": "code",
   "execution_count": 30,
   "id": "244b84a8-1b36-47b0-82e4-e77e7bf29b8f",
   "metadata": {},
   "outputs": [
    {
     "data": {
      "text/plain": [
       "31669.0"
      ]
     },
     "execution_count": 30,
     "metadata": {},
     "output_type": "execute_result"
    }
   ],
   "source": [
    "combined_df.Annual_Premium.median()"
   ]
  },
  {
   "cell_type": "code",
   "execution_count": 31,
   "id": "ade7f775-c5d8-4573-a5f1-2365ef7aba3c",
   "metadata": {},
   "outputs": [
    {
     "data": {
      "text/plain": [
       "537535.0"
      ]
     },
     "execution_count": 31,
     "metadata": {},
     "output_type": "execute_result"
    }
   ],
   "source": [
    "combined_df.Annual_Premium.max() - combined_df.Annual_Premium.min()"
   ]
  },
  {
   "cell_type": "code",
   "execution_count": 32,
   "id": "adb85d44-5541-4e3a-bf6b-c2900b8cab5b",
   "metadata": {},
   "outputs": [
    {
     "data": {
      "text/html": [
       "<div>\n",
       "<style scoped>\n",
       "    .dataframe tbody tr th:only-of-type {\n",
       "        vertical-align: middle;\n",
       "    }\n",
       "\n",
       "    .dataframe tbody tr th {\n",
       "        vertical-align: top;\n",
       "    }\n",
       "\n",
       "    .dataframe thead th {\n",
       "        text-align: right;\n",
       "    }\n",
       "</style>\n",
       "<table border=\"1\" class=\"dataframe\">\n",
       "  <thead>\n",
       "    <tr style=\"text-align: right;\">\n",
       "      <th></th>\n",
       "      <th>count</th>\n",
       "      <th>mean</th>\n",
       "      <th>std</th>\n",
       "      <th>min</th>\n",
       "      <th>25%</th>\n",
       "      <th>50%</th>\n",
       "      <th>75%</th>\n",
       "      <th>max</th>\n",
       "    </tr>\n",
       "    <tr>\n",
       "      <th>Response</th>\n",
       "      <th></th>\n",
       "      <th></th>\n",
       "      <th></th>\n",
       "      <th></th>\n",
       "      <th></th>\n",
       "      <th></th>\n",
       "      <th></th>\n",
       "      <th></th>\n",
       "    </tr>\n",
       "  </thead>\n",
       "  <tbody>\n",
       "    <tr>\n",
       "      <th>0</th>\n",
       "      <td>668798.0</td>\n",
       "      <td>30419.160276</td>\n",
       "      <td>16998.280489</td>\n",
       "      <td>2630.0</td>\n",
       "      <td>24351.0</td>\n",
       "      <td>31504.0</td>\n",
       "      <td>39120.0</td>\n",
       "      <td>540165.0</td>\n",
       "    </tr>\n",
       "    <tr>\n",
       "      <th>1</th>\n",
       "      <td>93420.0</td>\n",
       "      <td>31604.092742</td>\n",
       "      <td>18646.408239</td>\n",
       "      <td>2630.0</td>\n",
       "      <td>24868.0</td>\n",
       "      <td>33002.0</td>\n",
       "      <td>41297.0</td>\n",
       "      <td>540165.0</td>\n",
       "    </tr>\n",
       "  </tbody>\n",
       "</table>\n",
       "</div>"
      ],
      "text/plain": [
       "             count          mean           std     min      25%      50%  \\\n",
       "Response                                                                   \n",
       "0         668798.0  30419.160276  16998.280489  2630.0  24351.0  31504.0   \n",
       "1          93420.0  31604.092742  18646.408239  2630.0  24868.0  33002.0   \n",
       "\n",
       "              75%       max  \n",
       "Response                     \n",
       "0         39120.0  540165.0  \n",
       "1         41297.0  540165.0  "
      ]
     },
     "execution_count": 32,
     "metadata": {},
     "output_type": "execute_result"
    }
   ],
   "source": [
    "combined_df.groupby('Response')['Annual_Premium'].describe()"
   ]
  },
  {
   "cell_type": "code",
   "execution_count": 33,
   "id": "789be5f4-4d78-41ce-8f18-8059a711bfd0",
   "metadata": {},
   "outputs": [
    {
     "data": {
      "text/plain": [
       "Response\n",
       "0    31504.0\n",
       "1    33002.0\n",
       "Name: Annual_Premium, dtype: float64"
      ]
     },
     "execution_count": 33,
     "metadata": {},
     "output_type": "execute_result"
    }
   ],
   "source": [
    "combined_df.groupby('Response')['Annual_Premium'].median()"
   ]
  },
  {
   "cell_type": "markdown",
   "id": "d1f5ed19-a626-4f54-8f47-c3c219fc0da8",
   "metadata": {},
   "source": [
    "Comment : \n",
    "- Annual Premium is highly positively skewed to the right. With a skew value of 1.7. \n",
    "- There is a large range in Annual Premium of 537535.0\n",
    "- The mean median price Insurance holders pay per annum is 31669.0\n",
    "- Mean and Median Values are slighly high where the response variable = 1 \n",
    "- The box plots show there are a large number of outliers for the annual premium and age where the response variable is positive. "
   ]
  },
  {
   "cell_type": "markdown",
   "id": "56bde3d4-8381-4107-a588-4fb1bdaa9403",
   "metadata": {},
   "source": [
    "##### Feature : Vintage"
   ]
  },
  {
   "cell_type": "code",
   "execution_count": 34,
   "id": "72b8f975-ad47-44b7-9e35-c3549aed24bb",
   "metadata": {},
   "outputs": [
    {
     "name": "stderr",
     "output_type": "stream",
     "text": [
      "c:\\dev\\.conda\\envs\\jupyter-lab\\lib\\site-packages\\seaborn\\distributions.py:2619: FutureWarning: `distplot` is a deprecated function and will be removed in a future version. Please adapt your code to use either `displot` (a figure-level function with similar flexibility) or `histplot` (an axes-level function for histograms).\n",
      "  warnings.warn(msg, FutureWarning)\n"
     ]
    },
    {
     "data": {
      "text/plain": [
       "Text(0.5, 1.0, 'Distribution of Vintage')"
      ]
     },
     "execution_count": 34,
     "metadata": {},
     "output_type": "execute_result"
    },
    {
     "data": {
      "image/png": "[encoded data removed]",
      "text/plain": [
       "<Figure size 432x288 with 1 Axes>"
      ]
     },
     "metadata": {
      "needs_background": "light"
     },
     "output_type": "display_data"
    }
   ],
   "source": [
    "sns.distplot(x= combined_df.Vintage)\n",
    "plt.title('Distribution of Vintage' )"
   ]
  },
  {
   "cell_type": "code",
   "execution_count": 35,
   "id": "e56528ac-df14-4de6-a9b0-d98809b93ccd",
   "metadata": {},
   "outputs": [
    {
     "data": {
      "image/png": "[encoded data removed]",
      "text/plain": [
       "<Figure size 432x288 with 1 Axes>"
      ]
     },
     "metadata": {
      "needs_background": "light"
     },
     "output_type": "display_data"
    }
   ],
   "source": [
    "sns.boxplot(x=combined_df['Response'],\n",
    "        y = combined_df['Vintage'], \n",
    "        data = combined_df,palette='Accent',\n",
    "            showmeans=True,\n",
    "                    meanprops={\"marker\": \"+\",\n",
    "                        \"markeredgecolor\": \"black\",\n",
    "                        \"markersize\": \"10\"})\n",
    "\n",
    "plt.title('Box plot showing the distribution of Vintage' )\n",
    "plt.show()"
   ]
  },
  {
   "cell_type": "code",
   "execution_count": 36,
   "id": "32efe0f3-1532-47f0-81a3-60d279058c77",
   "metadata": {},
   "outputs": [
    {
     "data": {
      "text/plain": [
       "False"
      ]
     },
     "execution_count": 36,
     "metadata": {},
     "output_type": "execute_result"
    }
   ],
   "source": [
    "combined_df.index.is_unique"
   ]
  },
  {
   "cell_type": "code",
   "execution_count": 1,
   "id": "3b7672fe-e1eb-41ca-a134-90e5b6ae9a03",
   "metadata": {},
   "outputs": [
    {
     "ename": "NameError",
     "evalue": "name 'df' is not defined",
     "output_type": "error",
     "traceback": [
      "\u001b[1;31m---------------------------------------------------------------------------\u001b[0m",
      "\u001b[1;31mNameError\u001b[0m                                 Traceback (most recent call last)",
      "\u001b[1;32m~\\AppData\\Local\\Temp\\ipykernel_11724\\3539817829.py\u001b[0m in \u001b[0;36m<module>\u001b[1;34m\u001b[0m\n\u001b[1;32m----> 1\u001b[1;33m \u001b[0mdf\u001b[0m\u001b[1;33m.\u001b[0m\u001b[0mindex\u001b[0m\u001b[1;33m.\u001b[0m\u001b[0mduplicated\u001b[0m\u001b[1;33m(\u001b[0m\u001b[1;33m)\u001b[0m\u001b[1;33m\u001b[0m\u001b[1;33m\u001b[0m\u001b[0m\n\u001b[0m",
      "\u001b[1;31mNameError\u001b[0m: name 'df' is not defined"
     ]
    }
   ],
   "source": [
    "df.index.duplicated()"
   ]
  },
  {
   "cell_type": "code",
   "execution_count": null,
   "id": "3688117f-5fbd-41ec-96c9-5510b97bb0b1",
   "metadata": {},
   "outputs": [],
   "source": [
    "pp_plot_data = test_df.drop(['id','Gender', 'Vehicle_Damage', 'Vehicle_Age', 'Driving_License', 'Region_Code','Policy_Sales_Channel','Previously_Insured' ], axis =1)\n",
    "sns.pairplot(pp_plot_data, hue=\"Response\");\n"
   ]
  },
  {
   "cell_type": "code",
   "execution_count": null,
   "id": "62aabf54-030c-474e-b566-7758d69862e9",
   "metadata": {},
   "outputs": [],
   "source": [
    "numeric_df = combined_df[['Age' ,'Annual_Premium','Vintage']]"
   ]
  },
  {
   "cell_type": "code",
   "execution_count": null,
   "id": "d9044e9a-7e32-4cff-89af-5c59daf18ae8",
   "metadata": {},
   "outputs": [],
   "source": [
    "sns.heatmap(numeric_df.corr(),annot=True)\n",
    "plt.title(\"Correlation Heatmap\",size=15)\n",
    "plt.show()"
   ]
  },
  {
   "cell_type": "code",
   "execution_count": null,
   "id": "9758bf1a-d839-4b2b-a112-7a0a717ead16",
   "metadata": {},
   "outputs": [],
   "source": [
    "sns.scatterplot(combined_df.Age,combined_df.Annual_Premium,hue=combined_df.Response)"
   ]
  },
  {
   "cell_type": "code",
   "execution_count": null,
   "id": "2a212224-ff25-4046-8965-8cbb6012ec2f",
   "metadata": {},
   "outputs": [],
   "source": [
    "sns.scatterplot(x=combined_df.Annual_Premium,y= combined_df.Vintage,hue=combined_df.Response)"
   ]
  },
  {
   "cell_type": "markdown",
   "id": "2cce633e-7d8f-4601-8fb5-b06900f17d0d",
   "metadata": {},
   "source": [
    "Comment : \n",
    "Based on the correlation heatmap, we can observe that none of the pairs of numerical features have a considerable relationship with each other.\n",
    "Based on the scatterplots, on analyzing the relationship between two numerical features and also understanding how they help to seperate the target classes, we can conclude that the target classes cannot be seperated by the interaction of two numerical features."
   ]
  },
  {
   "cell_type": "markdown",
   "id": "374a1d1f-1a09-4eeb-9da0-e08f2611952f",
   "metadata": {
    "tags": []
   },
   "source": [
    "#### Categorical Variables "
   ]
  },
  {
   "cell_type": "code",
   "execution_count": null,
   "id": "ddd616ab-a8be-4ad8-afe4-acecd9d3ba2f",
   "metadata": {},
   "outputs": [],
   "source": [
    "from dython.nominal import associations , identify_nominal_columns , cramers_v , theils_u"
   ]
  },
  {
   "cell_type": "code",
   "execution_count": null,
   "id": "f56c6253-4781-4f61-bf6f-b08919006e10",
   "metadata": {},
   "outputs": [],
   "source": [
    "categorical_columns=train_df[['Gender','Driving_License','Previously_Insured','Vehicle_Age','Vehicle_Damage','Response']]"
   ]
  },
  {
   "cell_type": "code",
   "execution_count": null,
   "id": "7e469928-90b4-4aad-bce7-28dcc246599c",
   "metadata": {},
   "outputs": [],
   "source": [
    "col = categorical_columns.columns\n",
    "cramersV = pd.DataFrame(index=['Response'],columns=categorical_columns.columns)\n",
    "for i in range(len(col)): \n",
    "    v = cramers_v(categorical_columns['Response'], categorical_columns[col[i]], bias_correction=True, nan_strategy='replace', nan_replace_value=0.0)\n",
    "    cramersV.loc[:,col[i]] = v\n",
    "    cramersV.astype(float)\n",
    "plt.figure(figsize=(40,1))\n",
    "sns.heatmap(cramersV,annot=True,fmt='.3f')"
   ]
  },
  {
   "cell_type": "code",
   "execution_count": null,
   "id": "5f98bc29-cbf2-483d-8f3e-86e0499b784b",
   "metadata": {},
   "outputs": [],
   "source": [
    "for i in col: \n",
    "    fig = sns.countplot(x=categorical_columns[i] , hue = categorical_columns['Response'])\n",
    "    \n",
    "    for container in fig.containers:\n",
    "        fig.bar_label(container)\n",
    "        \n",
    "    plt.title('Countplot for variable {}'.format(i))\n",
    "    plt.show()\n"
   ]
  },
  {
   "cell_type": "code",
   "execution_count": null,
   "id": "8abdc61a-e5ae-4df0-8871-41a6a2d5d841",
   "metadata": {},
   "outputs": [],
   "source": [
    "train_df.head()"
   ]
  },
  {
   "cell_type": "markdown",
   "id": "b7ce22b8-22a2-4326-9362-ccbcf49f3f39",
   "metadata": {},
   "source": [
    "#### Data Pre-processing "
   ]
  },
  {
   "cell_type": "code",
   "execution_count": null,
   "id": "4309fb2f-3047-4bcd-97ad-f5e4e40cd7de",
   "metadata": {},
   "outputs": [],
   "source": [
    "num_feat = ['Age','Vintage','Annual_Premium']\n",
    "cat_feat = ['Gender', 'Driving_License', 'Previously_Insured', 'Vehicle_Age_lt_1_Year','Vehicle_Age_gt_2_Years','Vehicle_Damage_Yes','Region_Code','Policy_Sales_Channel']"
   ]
  },
  {
   "cell_type": "code",
   "execution_count": null,
   "id": "fb34e097-ccaf-4013-93f8-6a872108998e",
   "metadata": {},
   "outputs": [],
   "source": [
    "combined_df.nunique()"
   ]
  },
  {
   "cell_type": "code",
   "execution_count": null,
   "id": "4ff7c240-5cd9-42da-922e-8adee13eb8c8",
   "metadata": {},
   "outputs": [],
   "source": [
    "GenderDict = {\n",
    "    'Male': 0,\n",
    "    'Female': 1\n",
    "}\n",
    "GenderDict\n",
    "\n",
    "train_df[\"Gender\"] = train_df[\"Gender\"].astype(str).apply(lambda x: GenderDict.get(x))\n",
    "\n",
    "VehicleDamageDict ={ \n",
    "    'No' : 0 , \n",
    "    'Yes' : 1 \n",
    "} \n",
    "VehicleDamageDict\n",
    "\n",
    "train_df['Vehicle_Damage'] = train_df['Vehicle_Damage'].astype(str).apply(lambda x : VehicleDamageDict.get(x))\n",
    "\n",
    "train_df.drop('id',axis = 1)\n",
    "train_df.drop('Vintage', axis = 1)\n",
    "\n",
    "train_df['Annual_Premium'] = np.log(train_df['Annual_Premium'])\n",
    "\n",
    "trainData=pd.get_dummies(train_df,drop_first=True)\n",
    "\n",
    "trainData.head()"
   ]
  },
  {
   "cell_type": "markdown",
   "id": "06771315-a638-4ed1-98f6-dc15a9e4a256",
   "metadata": {},
   "source": [
    "XGBoost uses sparse matrixes. It only keeps track of the ones and doesn't allocate memory for the zeros. This is how XGboost deals with missing data and is energy efficent at the same time. "
   ]
  },
  {
   "cell_type": "code",
   "execution_count": 270,
   "id": "e518e4d8-e9a3-4d84-90b9-58fe43d469a1",
   "metadata": {},
   "outputs": [
    {
     "data": {
      "text/plain": [
       "array([1, 0])"
      ]
     },
     "execution_count": 270,
     "metadata": {},
     "output_type": "execute_result"
    }
   ],
   "source": [
    "y.unique()"
   ]
  },
  {
   "cell_type": "code",
   "execution_count": 271,
   "id": "efea06c2-e983-4cb2-b649-d07444c4c1b8",
   "metadata": {},
   "outputs": [
    {
     "data": {
      "text/plain": [
       "0.12256336113815208"
      ]
     },
     "execution_count": 271,
     "metadata": {},
     "output_type": "execute_result"
    }
   ],
   "source": [
    "sum(y)/len(y)"
   ]
  },
  {
   "cell_type": "code",
   "execution_count": 272,
   "id": "10ea299e-4a9e-4aca-85a0-1c00d4eba94b",
   "metadata": {},
   "outputs": [
    {
     "data": {
      "text/plain": [
       "id                          int64\n",
       "Age                         int64\n",
       "Driving_License             int64\n",
       "Region_Code               float64\n",
       "Previously_Insured          int64\n",
       "Annual_Premium            float64\n",
       "Policy_Sales_Channel      float64\n",
       "Vintage                     int64\n",
       "Vehicle_Age_lt_1_Year       uint8\n",
       "Vehicle_Age_gt_2_Years      uint8\n",
       "Vehicle_Damage_Yes          uint8\n",
       "dtype: object"
      ]
     },
     "execution_count": 272,
     "metadata": {},
     "output_type": "execute_result"
    }
   ],
   "source": [
    "X.dtypes"
   ]
  },
  {
   "cell_type": "markdown",
   "id": "8b47d481-41a1-468b-a6fb-bcf62a9e02df",
   "metadata": {},
   "source": [
    "Only 12% of people responded. The dataset is unbalanced. Because of this when we split the data we split with stratification to maintain the same % in both the training and test datasets. "
   ]
  },
  {
   "cell_type": "code",
   "execution_count": 48,
   "id": "5576e2fc-e51c-4fc6-ad9d-98b40af37598",
   "metadata": {},
   "outputs": [],
   "source": [
    "from sklearn.model_selection import train_test_split"
   ]
  },
  {
   "cell_type": "code",
   "execution_count": 51,
   "id": "9f22e1c3-5edc-4258-b7fa-4e131eeab3d1",
   "metadata": {},
   "outputs": [
    {
     "data": {
      "text/plain": [
       "0.1225619334501856"
      ]
     },
     "execution_count": 51,
     "metadata": {},
     "output_type": "execute_result"
    }
   ],
   "source": [
    "sum(y_train)/len(y_train)"
   ]
  },
  {
   "cell_type": "code",
   "execution_count": 52,
   "id": "a32864ab-6074-48f6-a24d-c9303fb68ed0",
   "metadata": {},
   "outputs": [
    {
     "data": {
      "text/plain": [
       "0.12256764415709817"
      ]
     },
     "execution_count": 52,
     "metadata": {},
     "output_type": "execute_result"
    }
   ],
   "source": [
    "sum(y_test)/len(y_test)"
   ]
  },
  {
   "cell_type": "markdown",
   "id": "a7aeba4b-477b-4b91-80d7-a87426b58331",
   "metadata": {},
   "source": [
    "To determine the optimal number of trees : I use early stopping. This stops building the algorithm when they no longer improve the model "
   ]
  },
  {
   "cell_type": "code",
   "execution_count": 273,
   "id": "d97efdc4-9581-459f-ac8d-396bb98c271c",
   "metadata": {},
   "outputs": [],
   "source": [
    "from sklearn.metrics import accuracy_score, classification_report, confusion_matrix\n",
    "from sklearn.model_selection import train_test_split\n",
    "from sklearn.preprocessing import MinMaxScaler, LabelEncoder, StandardScaler, RobustScaler\n",
    "from xgboost import XGBClassifier, plot_importance\n",
    "from sklearn.model_selection import GridSearchCV"
   ]
  },
  {
   "cell_type": "code",
   "execution_count": 274,
   "id": "fd1884ad-755e-4a10-944c-680483b6a68c",
   "metadata": {},
   "outputs": [],
   "source": [
    "y=trainData['Response'].astype(int)\n",
    "X=trainData.drop(['Response'], axis = 1)"
   ]
  },
  {
   "cell_type": "code",
   "execution_count": 275,
   "id": "a8ae8893-c341-4e0c-a753-7a4708cd8393",
   "metadata": {},
   "outputs": [],
   "source": [
    "x_train,x_test,y_train,y_test = train_test_split(X,y, random_state = 0,stratify = y)"
   ]
  },
  {
   "cell_type": "code",
   "execution_count": 69,
   "id": "4b21f954-5cd8-4ed2-ba0e-2784e0779579",
   "metadata": {},
   "outputs": [
    {
     "name": "stdout",
     "output_type": "stream",
     "text": [
      "[0]\tvalidation_0-aucpr:0.32118\n",
      "[1]\tvalidation_0-aucpr:0.32899\n",
      "[2]\tvalidation_0-aucpr:0.34111\n",
      "[3]\tvalidation_0-aucpr:0.34685\n",
      "[4]\tvalidation_0-aucpr:0.34556\n",
      "[5]\tvalidation_0-aucpr:0.34730\n",
      "[6]\tvalidation_0-aucpr:0.35362\n",
      "[7]\tvalidation_0-aucpr:0.35452\n",
      "[8]\tvalidation_0-aucpr:0.35561\n",
      "[9]\tvalidation_0-aucpr:0.35668\n",
      "[10]\tvalidation_0-aucpr:0.36174\n",
      "[11]\tvalidation_0-aucpr:0.36254\n",
      "[12]\tvalidation_0-aucpr:0.36431\n",
      "[13]\tvalidation_0-aucpr:0.36603\n",
      "[14]\tvalidation_0-aucpr:0.36632\n",
      "[15]\tvalidation_0-aucpr:0.36774\n",
      "[16]\tvalidation_0-aucpr:0.36839\n",
      "[17]\tvalidation_0-aucpr:0.36842\n",
      "[18]\tvalidation_0-aucpr:0.36955\n",
      "[19]\tvalidation_0-aucpr:0.37026\n",
      "[20]\tvalidation_0-aucpr:0.37025\n",
      "[21]\tvalidation_0-aucpr:0.37010\n",
      "[22]\tvalidation_0-aucpr:0.37028\n",
      "[23]\tvalidation_0-aucpr:0.37006\n",
      "[24]\tvalidation_0-aucpr:0.37083\n",
      "[25]\tvalidation_0-aucpr:0.37079\n",
      "[26]\tvalidation_0-aucpr:0.37103\n",
      "[27]\tvalidation_0-aucpr:0.37104\n",
      "[28]\tvalidation_0-aucpr:0.37104\n",
      "[29]\tvalidation_0-aucpr:0.37251\n",
      "[30]\tvalidation_0-aucpr:0.37250\n",
      "[31]\tvalidation_0-aucpr:0.37243\n",
      "[32]\tvalidation_0-aucpr:0.37214\n",
      "[33]\tvalidation_0-aucpr:0.37224\n",
      "[34]\tvalidation_0-aucpr:0.37207\n",
      "[35]\tvalidation_0-aucpr:0.37195\n",
      "[36]\tvalidation_0-aucpr:0.37196\n",
      "[37]\tvalidation_0-aucpr:0.37128\n",
      "[38]\tvalidation_0-aucpr:0.37149\n",
      "[39]\tvalidation_0-aucpr:0.37155\n",
      "[40]\tvalidation_0-aucpr:0.37152\n",
      "[41]\tvalidation_0-aucpr:0.37127\n",
      "[42]\tvalidation_0-aucpr:0.37137\n",
      "[43]\tvalidation_0-aucpr:0.37145\n",
      "[44]\tvalidation_0-aucpr:0.37111\n",
      "[45]\tvalidation_0-aucpr:0.37097\n",
      "[46]\tvalidation_0-aucpr:0.37065\n",
      "[47]\tvalidation_0-aucpr:0.37032\n",
      "[48]\tvalidation_0-aucpr:0.36999\n"
     ]
    },
    {
     "data": {
      "text/plain": [
       "XGBClassifier(base_score=0.5, booster='gbtree', colsample_bylevel=1,\n",
       "              colsample_bynode=1, colsample_bytree=1, enable_categorical=False,\n",
       "              gamma=0, gpu_id=-1, importance_type=None,\n",
       "              interaction_constraints='', learning_rate=0.300000012,\n",
       "              max_delta_step=0, max_depth=6, min_child_weight=1, missing=None,\n",
       "              monotone_constraints='()', n_estimators=100, n_jobs=2,\n",
       "              num_parallel_tree=1, predictor='auto', random_state=42,\n",
       "              reg_alpha=0, reg_lambda=1, scale_pos_weight=1, seed=42,\n",
       "              subsample=1, tree_method='exact', validate_parameters=1,\n",
       "              verbosity=None)"
      ]
     },
     "execution_count": 69,
     "metadata": {},
     "output_type": "execute_result"
    }
   ],
   "source": [
    "clf_xgb.fit(x_train,y_train,verbose = True , early_stopping_rounds = 20, eval_metric = 'aucpr' , eval_set = [(x_test , y_test)])"
   ]
  },
  {
   "cell_type": "code",
   "execution_count": null,
   "id": "c9db7b54-bf22-424c-b66d-1bb9bcc0aaf0",
   "metadata": {},
   "outputs": [],
   "source": []
  },
  {
   "cell_type": "code",
   "execution_count": null,
   "id": "bd9297a1-a070-41d9-98dd-90630ad3bf5e",
   "metadata": {},
   "outputs": [
    {
     "name": "stdout",
     "output_type": "stream",
     "text": [
      "Accuracy: 87.71%\n"
     ]
    }
   ],
   "source": [
    "model_xgb = XGBClassifier()\n",
    "model_xgb.fit(x_train, y_train,eval_metric='mlogloss')\n",
    "\n",
    "pred_xgb = model_xgb.predict(x_test) \n",
    "predictions_xgb = [round(value) for value in pred_xgb]\n",
    "accuracy_xgb = accuracy_score(y_test, predictions_xgb)\n",
    "print(\"Accuracy: %.2f%%\" % (accuracy_xgb * 100.0))"
   ]
  },
  {
   "cell_type": "code",
   "execution_count": null,
   "id": "7dd8d0d4-c29f-4c5c-8d20-90669e6555c3",
   "metadata": {},
   "outputs": [],
   "source": [
    "NOTE - Due to heavy imbalance in target classes, we need to give considerable importance to both precision and recall of class 1. Hence throughout the evaluation, we will focus on F1 score\n",
    "\n",
    "We created 3 types of models - Probability, Tree based and boosting techniques."
   ]
  },
  {
   "cell_type": "code",
   "execution_count": 267,
   "id": "ce997429-c2d6-4fcc-8397-1d8cab50c3cf",
   "metadata": {},
   "outputs": [],
   "source": [
    "from sklearn.model_selection import RandomizedSearchCV\n",
    "from sklearn.model_selection import cross_val_score\n",
    "from sklearn.ensemble import RandomForestClassifier\n",
    "#from catboost import CatBoostClassifier\n",
    "#from scipy.stats import randint\n",
    "#import pickle\n",
    "import xgboost as xgb\n",
    "#import lightgbm as lgb\n",
    "from sklearn.metrics import accuracy_score\n",
    "# import packages for hyperparameters tuning\n",
    "#from hyperopt import STATUS_OK, Trials, fmin, hp, tpe\n",
    "from sklearn.model_selection import train_test_split, RandomizedSearchCV, StratifiedKFold, KFold, GridSearchCV\n",
    "from sklearn.metrics import f1_score, roc_auc_score,accuracy_score,confusion_matrix, precision_recall_curve, auc, roc_curve, recall_score, classification_report "
   ]
  },
  {
   "cell_type": "code",
   "execution_count": 276,
   "id": "67a1355e-eaf5-43a7-a2ba-1ab1492e046c",
   "metadata": {},
   "outputs": [
    {
     "name": "stdout",
     "output_type": "stream",
     "text": [
      "Fitting 4 folds for each of 10 candidates, totalling 40 fits\n"
     ]
    },
    {
     "data": {
      "text/plain": [
       "RandomizedSearchCV(cv=4, estimator=RandomForestClassifier(), n_jobs=-1,\n",
       "                   param_distributions={'criterion': ['entropy', 'gini'],\n",
       "                                        'max_depth': [2, 3, 4, 5, 6, 7, 10],\n",
       "                                        'min_samples_leaf': [4, 6, 8],\n",
       "                                        'min_samples_split': [5, 7, 10],\n",
       "                                        'n_estimators': [300]},\n",
       "                   random_state=101, verbose=1)"
      ]
     },
     "execution_count": 276,
     "metadata": {},
     "output_type": "execute_result"
    }
   ],
   "source": [
    "random_search = {'criterion': ['entropy', 'gini'],\n",
    "               'max_depth': [2,3,4,5,6,7,10],\n",
    "               'min_samples_leaf': [4, 6, 8],\n",
    "               'min_samples_split': [5, 7,10],\n",
    "               'n_estimators': [300]}\n",
    "\n",
    "clf = RandomForestClassifier()\n",
    "model = RandomizedSearchCV(estimator = clf, param_distributions = random_search, n_iter = 10, \n",
    "                               cv = 4, verbose= 1, random_state= 101, n_jobs = -1)\n",
    "model.fit(x_train,y_train)"
   ]
  },
  {
   "cell_type": "code",
   "execution_count": null,
   "id": "dc756c50-6a26-4723-9109-651c014d9689",
   "metadata": {},
   "outputs": [],
   "source": []
  }
 ],
 "metadata": {
  "kernelspec": {
   "display_name": "Python 3 (ipykernel)",
   "language": "python",
   "name": "python3"
  },
  "language_info": {
   "codemirror_mode": {
    "name": "ipython",
    "version": 3
   },
   "file_extension": ".py",
   "mimetype": "text/x-python",
   "name": "python",
   "nbconvert_exporter": "python",
   "pygments_lexer": "ipython3",
   "version": "3.7.12"
  }
 },
 "nbformat": 4,
 "nbformat_minor": 5
}
