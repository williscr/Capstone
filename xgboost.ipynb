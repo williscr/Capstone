{
 "cells": [
  {
   "cell_type": "code",
   "execution_count": null,
   "id": "8ccdb38d-5091-4b85-a864-50244dc51b23",
   "metadata": {},
   "outputs": [],
   "source": [
    "print('------------Training Xgboost------------')\n",
    "%run ./Preprocessing.ipynb"
   ]
  },
  {
   "cell_type": "code",
   "execution_count": 1,
   "id": "31615d58-af67-47f4-9b8a-fd4aea5c078b",
   "metadata": {},
   "outputs": [
    {
     "name": "stderr",
     "output_type": "stream",
     "text": [
      "c:\\dev\\.conda\\envs\\jupyter-lab\\lib\\site-packages\\tqdm\\auto.py:22: TqdmWarning: IProgress not found. Please update jupyter and ipywidgets. See https://ipywidgets.readthedocs.io/en/stable/user_install.html\n",
      "  from .autonotebook import tqdm as notebook_tqdm\n"
     ]
    }
   ],
   "source": [
    "import optuna\n",
    "from sklearn.model_selection import (\n",
    "    StratifiedKFold, KFold\n",
    ")\n",
    "import xgboost as xgb\n",
    "from xgboost import XGBClassifier\n",
    "from xgboost.callback import EvaluationMonitor\n",
    "from xgboost.callback import EarlyStopping\n",
    "import plotly"
   ]
  },
  {
   "cell_type": "code",
   "execution_count": 4,
   "id": "e037cfd1-8558-49a1-992a-e5abb7bfbb9b",
   "metadata": {},
   "outputs": [],
   "source": [
    "opt_grid = {\n",
    "        'early_stopping': 5,\n",
    "        'number_of_trials': 5,\n",
    "        'shuffle': True,\n",
    "        'cv': KFold(n_splits=10, random_state=None, shuffle=True),\n",
    "        'time_constraint': 60 * 1\n",
    "    }\n",
    "    \n",
    "static_param = {\n",
    "    'objective': 'binary:logistic',\n",
    "    'eval_metric': 'auc'\n",
    "}"
   ]
  },
  {
   "cell_type": "code",
   "execution_count": 5,
   "id": "64f32fee-8bfc-4612-940d-ca70cdc95c87",
   "metadata": {},
   "outputs": [],
   "source": [
    "def objective(trial): \n",
    "    \n",
    "    param_grid = {\n",
    "        \"learning_rate\": trial.suggest_float(\"learning_rate\", 0.01, 0.8),\n",
    "        # \"num_leaves\": trial.suggest_int(\"num_leaves\", 31, 63, 5),\n",
    "        \"max_depth\": trial.suggest_int(\"max_depth\", 2, 30),\n",
    "        'min_child_weight': trial.suggest_float(\"min_child_weight\", 1, 500),\n",
    "        \"colsample_bytree\": trial.suggest_float(\"colsample_bytree\", 0.1, 1),\n",
    "        \"colsample_bylevel\": trial.suggest_float(\"colsample_bytree\", 0.1, 1),\n",
    "        \"subsample\": trial.suggest_float(\"subsample\", 0.1, 1),\n",
    "        \"reg_alpha\": trial.suggest_float(\"reg_alpha\", 0, 5),\n",
    "        \"reg_lambda\": trial.suggest_float(\"reg_lambda\", 1, 5)\n",
    "    }\n",
    "\n",
    "    full_grid = {**param_grid, **static_param}\n",
    "\n",
    "    pruning_callback = optuna.integration.XGBoostPruningCallback(trial, \"test-\" + full_grid['eval_metric'])\n",
    "    early_callback = xgb.callback.EarlyStopping(5)\n",
    "\n",
    "\n",
    "    cv_results = xgb.cv(full_grid,\n",
    "                                dtrain=xgb.DMatrix(xtrain, label=ytrain),\n",
    "                                folds= opt_grid['cv'],\n",
    "                                metrics=full_grid['eval_metric'],\n",
    "                                callbacks=[pruning_callback, early_callback]\n",
    "                                )\n",
    "\n",
    "    prep_string = 'test-' + full_grid['eval_metric'] + '-mean'\n",
    "    scores = np.mean(cv_results[prep_string])\n",
    "\n",
    "\n",
    "    if trial.should_prune():\n",
    "        raise optuna.exceptions.TrialPruned()\n",
    "\n",
    "    return scores\n",
    "\n",
    "study = optuna.create_study(sampler=optuna.samplers.TPESampler(), direction='maximize')\n",
    "study.optimize(objective,n_trials=opt_grid['number_of_trials'],show_progress_bar=False,timeout=opt_grid['time_constraint'])\n",
    "model_parameters = study.best_params\n",
    "fig = optuna.visualization.plot_intermediate_values(study)\n",
    "fig.show()"
   ]
  },
  {
   "cell_type": "code",
   "execution_count": null,
   "id": "73900990-8ef9-4a7d-93d8-aae4d87c77f7",
   "metadata": {},
   "outputs": [],
   "source": []
  },
  {
   "cell_type": "code",
   "execution_count": 6,
   "id": "12ea02a6-480f-41da-8652-2655e4f6ed39",
   "metadata": {},
   "outputs": [
    {
     "name": "stderr",
     "output_type": "stream",
     "text": [
      "\u001b[32m[I 2022-07-31 17:12:59,245]\u001b[0m A new study created in memory with name: no-name-16451767-3699-4727-a1e8-5bb58dacde7a\u001b[0m\n",
      "\u001b[32m[I 2022-07-31 17:13:02,364]\u001b[0m Trial 0 finished with value: 0.7623449800000001 and parameters: {'learning_rate': 0.11618405884014912, 'max_depth': 22, 'min_child_weight': 298.9901248266855, 'colsample_bytree': 0.3406618318329484, 'subsample': 0.766845025132358, 'reg_alpha': 1.517908134342985, 'reg_lambda': 2.925534557146501}. Best is trial 0 with value: 0.7623449800000001.\u001b[0m\n",
      "\u001b[32m[I 2022-07-31 17:13:04,888]\u001b[0m Trial 1 finished with value: 0.79658181 and parameters: {'learning_rate': 0.33019397865802436, 'max_depth': 28, 'min_child_weight': 263.27719218878514, 'colsample_bytree': 0.4718283802434422, 'subsample': 0.1310975040686739, 'reg_alpha': 3.8857244398843966, 'reg_lambda': 3.3475222662387063}. Best is trial 1 with value: 0.79658181.\u001b[0m\n",
      "\u001b[32m[I 2022-07-31 17:13:08,195]\u001b[0m Trial 2 finished with value: 0.8285322900000001 and parameters: {'learning_rate': 0.4906587906755794, 'max_depth': 22, 'min_child_weight': 450.36824885109104, 'colsample_bytree': 0.4961324657812429, 'subsample': 0.4022717417751046, 'reg_alpha': 0.16929459802422941, 'reg_lambda': 3.9828943016343814}. Best is trial 2 with value: 0.8285322900000001.\u001b[0m\n",
      "\u001b[32m[I 2022-07-31 17:13:11,359]\u001b[0m Trial 3 finished with value: 0.83599727 and parameters: {'learning_rate': 0.6238086175231548, 'max_depth': 26, 'min_child_weight': 337.660843656232, 'colsample_bytree': 0.4615465726214224, 'subsample': 0.9760396831763978, 'reg_alpha': 3.594312390676519, 'reg_lambda': 4.27089123276396}. Best is trial 3 with value: 0.83599727.\u001b[0m\n",
      "\u001b[32m[I 2022-07-31 17:13:15,761]\u001b[0m Trial 4 finished with value: 0.8370995200000001 and parameters: {'learning_rate': 0.5706854545308198, 'max_depth': 13, 'min_child_weight': 179.8898733577923, 'colsample_bytree': 0.6661568320933403, 'subsample': 0.2519883911816271, 'reg_alpha': 2.506411883399289, 'reg_lambda': 3.6191189693591777}. Best is trial 4 with value: 0.8370995200000001.\u001b[0m\n"
     ]
    },
    {
     "ename": "ImportError",
     "evalue": "Tried to import 'plotly' but failed. Please make sure that the package is installed correctly to use this feature. Actual error: No module named 'plotly'.",
     "output_type": "error",
     "traceback": [
      "\u001b[1;31m---------------------------------------------------------------------------\u001b[0m",
      "\u001b[1;31mModuleNotFoundError\u001b[0m                       Traceback (most recent call last)",
      "\u001b[1;32mc:\\dev\\.conda\\envs\\jupyter-lab\\lib\\site-packages\\optuna\\visualization\\_plotly_imports.py\u001b[0m in \u001b[0;36m<module>\u001b[1;34m\u001b[0m\n\u001b[0;32m      6\u001b[0m \u001b[1;32mwith\u001b[0m \u001b[0mtry_import\u001b[0m\u001b[1;33m(\u001b[0m\u001b[1;33m)\u001b[0m \u001b[1;32mas\u001b[0m \u001b[0m_imports\u001b[0m\u001b[1;33m:\u001b[0m  \u001b[1;31m# NOQA\u001b[0m\u001b[1;33m\u001b[0m\u001b[1;33m\u001b[0m\u001b[0m\n\u001b[1;32m----> 7\u001b[1;33m     \u001b[1;32mimport\u001b[0m \u001b[0mplotly\u001b[0m  \u001b[1;31m# NOQA\u001b[0m\u001b[1;33m\u001b[0m\u001b[1;33m\u001b[0m\u001b[0m\n\u001b[0m\u001b[0;32m      8\u001b[0m     \u001b[1;32mfrom\u001b[0m \u001b[0mplotly\u001b[0m \u001b[1;32mimport\u001b[0m \u001b[0m__version__\u001b[0m \u001b[1;32mas\u001b[0m \u001b[0mplotly_version\u001b[0m\u001b[1;33m\u001b[0m\u001b[1;33m\u001b[0m\u001b[0m\n",
      "\u001b[1;31mModuleNotFoundError\u001b[0m: No module named 'plotly'",
      "\nThe above exception was the direct cause of the following exception:\n",
      "\u001b[1;31mImportError\u001b[0m                               Traceback (most recent call last)",
      "\u001b[1;32m~\\AppData\\Local\\Temp\\ipykernel_12384\\688451598.py\u001b[0m in \u001b[0;36m<module>\u001b[1;34m\u001b[0m\n\u001b[0;32m      2\u001b[0m \u001b[0mstudy\u001b[0m\u001b[1;33m.\u001b[0m\u001b[0moptimize\u001b[0m\u001b[1;33m(\u001b[0m\u001b[0mobjective\u001b[0m\u001b[1;33m,\u001b[0m\u001b[0mn_trials\u001b[0m\u001b[1;33m=\u001b[0m\u001b[0mopt_grid\u001b[0m\u001b[1;33m[\u001b[0m\u001b[1;34m'number_of_trials'\u001b[0m\u001b[1;33m]\u001b[0m\u001b[1;33m,\u001b[0m\u001b[0mshow_progress_bar\u001b[0m\u001b[1;33m=\u001b[0m\u001b[1;32mFalse\u001b[0m\u001b[1;33m,\u001b[0m\u001b[0mtimeout\u001b[0m\u001b[1;33m=\u001b[0m\u001b[0mopt_grid\u001b[0m\u001b[1;33m[\u001b[0m\u001b[1;34m'time_constraint'\u001b[0m\u001b[1;33m]\u001b[0m\u001b[1;33m)\u001b[0m\u001b[1;33m\u001b[0m\u001b[1;33m\u001b[0m\u001b[0m\n\u001b[0;32m      3\u001b[0m \u001b[0mmodel_parameters\u001b[0m \u001b[1;33m=\u001b[0m \u001b[0mstudy\u001b[0m\u001b[1;33m.\u001b[0m\u001b[0mbest_params\u001b[0m\u001b[1;33m\u001b[0m\u001b[1;33m\u001b[0m\u001b[0m\n\u001b[1;32m----> 4\u001b[1;33m \u001b[0mfig\u001b[0m \u001b[1;33m=\u001b[0m \u001b[0moptuna\u001b[0m\u001b[1;33m.\u001b[0m\u001b[0mvisualization\u001b[0m\u001b[1;33m.\u001b[0m\u001b[0mplot_intermediate_values\u001b[0m\u001b[1;33m(\u001b[0m\u001b[0mstudy\u001b[0m\u001b[1;33m)\u001b[0m\u001b[1;33m\u001b[0m\u001b[1;33m\u001b[0m\u001b[0m\n\u001b[0m\u001b[0;32m      5\u001b[0m \u001b[0mfig\u001b[0m\u001b[1;33m.\u001b[0m\u001b[0mshow\u001b[0m\u001b[1;33m(\u001b[0m\u001b[1;33m)\u001b[0m\u001b[1;33m\u001b[0m\u001b[1;33m\u001b[0m\u001b[0m\n",
      "\u001b[1;32mc:\\dev\\.conda\\envs\\jupyter-lab\\lib\\site-packages\\optuna\\visualization\\_intermediate_values.py\u001b[0m in \u001b[0;36mplot_intermediate_values\u001b[1;34m(study)\u001b[0m\n\u001b[0;32m     64\u001b[0m     \"\"\"\n\u001b[0;32m     65\u001b[0m \u001b[1;33m\u001b[0m\u001b[0m\n\u001b[1;32m---> 66\u001b[1;33m     \u001b[0m_imports\u001b[0m\u001b[1;33m.\u001b[0m\u001b[0mcheck\u001b[0m\u001b[1;33m(\u001b[0m\u001b[1;33m)\u001b[0m\u001b[1;33m\u001b[0m\u001b[1;33m\u001b[0m\u001b[0m\n\u001b[0m\u001b[0;32m     67\u001b[0m     \u001b[1;32mreturn\u001b[0m \u001b[0m_get_intermediate_plot\u001b[0m\u001b[1;33m(\u001b[0m\u001b[0mstudy\u001b[0m\u001b[1;33m)\u001b[0m\u001b[1;33m\u001b[0m\u001b[1;33m\u001b[0m\u001b[0m\n\u001b[0;32m     68\u001b[0m \u001b[1;33m\u001b[0m\u001b[0m\n",
      "\u001b[1;32mc:\\dev\\.conda\\envs\\jupyter-lab\\lib\\site-packages\\optuna\\_imports.py\u001b[0m in \u001b[0;36mcheck\u001b[1;34m(self)\u001b[0m\n\u001b[0;32m     84\u001b[0m         \u001b[1;32mif\u001b[0m \u001b[0mself\u001b[0m\u001b[1;33m.\u001b[0m\u001b[0m_deferred\u001b[0m \u001b[1;32mis\u001b[0m \u001b[1;32mnot\u001b[0m \u001b[1;32mNone\u001b[0m\u001b[1;33m:\u001b[0m\u001b[1;33m\u001b[0m\u001b[1;33m\u001b[0m\u001b[0m\n\u001b[0;32m     85\u001b[0m             \u001b[0mexc_value\u001b[0m\u001b[1;33m,\u001b[0m \u001b[0mmessage\u001b[0m \u001b[1;33m=\u001b[0m \u001b[0mself\u001b[0m\u001b[1;33m.\u001b[0m\u001b[0m_deferred\u001b[0m\u001b[1;33m\u001b[0m\u001b[1;33m\u001b[0m\u001b[0m\n\u001b[1;32m---> 86\u001b[1;33m             \u001b[1;32mraise\u001b[0m \u001b[0mImportError\u001b[0m\u001b[1;33m(\u001b[0m\u001b[0mmessage\u001b[0m\u001b[1;33m)\u001b[0m \u001b[1;32mfrom\u001b[0m \u001b[0mexc_value\u001b[0m\u001b[1;33m\u001b[0m\u001b[1;33m\u001b[0m\u001b[0m\n\u001b[0m\u001b[0;32m     87\u001b[0m \u001b[1;33m\u001b[0m\u001b[0m\n\u001b[0;32m     88\u001b[0m \u001b[1;33m\u001b[0m\u001b[0m\n",
      "\u001b[1;31mImportError\u001b[0m: Tried to import 'plotly' but failed. Please make sure that the package is installed correctly to use this feature. Actual error: No module named 'plotly'."
     ]
    }
   ],
   "source": []
  },
  {
   "cell_type": "code",
   "execution_count": 21,
   "id": "0a805c49-a450-4830-8d49-e5aceb1f5d20",
   "metadata": {},
   "outputs": [],
   "source": [
    "model_xgb = XGBClassifier(use_label_encoder= False)"
   ]
  },
  {
   "cell_type": "code",
   "execution_count": 22,
   "id": "cd94d283-b541-4444-9def-c83b639701fc",
   "metadata": {},
   "outputs": [
    {
     "data": {
      "text/plain": [
       "XGBClassifier(base_score=None, booster=None, colsample_bylevel=None,\n",
       "              colsample_bynode=None, colsample_bytree=0.8550977691995645,\n",
       "              enable_categorical=False, gamma=None, gpu_id=None,\n",
       "              importance_type=None, interaction_constraints=None,\n",
       "              learning_rate=0.49777240282595053, max_delta_step=None,\n",
       "              max_depth=19, min_child_weight=259.08880877072255, missing=nan,\n",
       "              monotone_constraints=None, n_estimators=100, n_jobs=None,\n",
       "              num_parallel_tree=None, predictor=None, random_state=None,\n",
       "              reg_alpha=4.200286096725215, reg_lambda=2.697486178623413,\n",
       "              scale_pos_weight=None, subsample=0.6031914948953285,\n",
       "              tree_method=None, use_label_encoder=False,\n",
       "              validate_parameters=None, verbosity=None)"
      ]
     },
     "execution_count": 22,
     "metadata": {},
     "output_type": "execute_result"
    }
   ],
   "source": [
    "model_xgb.set_params(**model_parameters)"
   ]
  },
  {
   "cell_type": "code",
   "execution_count": 23,
   "id": "808af131-542e-481f-a127-e2833a7eb359",
   "metadata": {},
   "outputs": [
    {
     "name": "stdout",
     "output_type": "stream",
     "text": [
      "[15:30:10] WARNING: D:\\bld\\xgboost-split_1645118015404\\work\\src\\learner.cc:1115: Starting in XGBoost 1.3.0, the default evaluation metric used with the objective 'binary:logistic' was changed from 'error' to 'logloss'. Explicitly set eval_metric if you'd like to restore the old behavior.\n",
      "-----------model_xgb, pred_xgb, probs_xgb loaded-----------\n"
     ]
    }
   ],
   "source": [
    "model_xgb=model_xgb.fit(xtrain,ytrain)\n",
    "pred_xgb=model_xgb.predict(xtest)\n",
    "probs_xgb = model_xgb.predict_proba(xtest)[:, 1]\n",
    "\n",
    "print('-----------model_xgb, pred_xgb, probs_xgb loaded-----------')"
   ]
  }
 ],
 "metadata": {
  "kernelspec": {
   "display_name": "Python 3 (ipykernel)",
   "language": "python",
   "name": "python3"
  },
  "language_info": {
   "codemirror_mode": {
    "name": "ipython",
    "version": 3
   },
   "file_extension": ".py",
   "mimetype": "text/x-python",
   "name": "python",
   "nbconvert_exporter": "python",
   "pygments_lexer": "ipython3",
   "version": "3.7.12"
  }
 },
 "nbformat": 4,
 "nbformat_minor": 5
}
