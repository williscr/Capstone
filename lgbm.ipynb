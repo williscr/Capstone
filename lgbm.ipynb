{
 "cells": [
  {
   "cell_type": "code",
   "execution_count": 262,
   "id": "8ccdb38d-5091-4b85-a864-50244dc51b23",
   "metadata": {},
   "outputs": [
    {
     "name": "stdout",
     "output_type": "stream",
     "text": [
      "------------Training LgbmBoost------------\n",
      "Preprocessed : xtrain, xtest, ytrain, ytest\n",
      "(266776, 13) (114333, 13) (266776,) (114333,)\n"
     ]
    }
   ],
   "source": [
    "print('------------Training LgbmBoost------------')\n",
    "%run ./Preprocessing.ipynb\n",
    "import optuna"
   ]
  },
  {
   "cell_type": "code",
   "execution_count": 263,
   "id": "31615d58-af67-47f4-9b8a-fd4aea5c078b",
   "metadata": {},
   "outputs": [],
   "source": [
    "import lightgbm as lgb\n",
    "\n",
    "from lightgbm import (LGBMClassifier, Dataset, cv, early_stopping)\n",
    "\n",
    "from sklearn.metrics import roc_auc_score, confusion_matrix, accuracy_score"
   ]
  },
  {
   "cell_type": "code",
   "execution_count": 264,
   "id": "141d8424-55a0-4275-9f7a-148733a39cf0",
   "metadata": {},
   "outputs": [],
   "source": [
    "static_param = {\n",
    "    'objective': 'binary',\n",
    "    'metric': 'auc',\n",
    "    \"verbose\": -1,\n",
    "}\n",
    "\n",
    "opt_grid = {\n",
    "    'early_stopping': 10,\n",
    "    'number_of_trials': 10,\n",
    "    'shuffle': True,\n",
    "    'folds' : 3, \n",
    "    'cv': KFold(n_splits=10, random_state=None, shuffle=True),\n",
    "    'time_constraint': 60 * 1\n",
    "}\n"
   ]
  },
  {
   "cell_type": "code",
   "execution_count": 265,
   "id": "4f430f90-98a5-4200-a151-319c6b0f570f",
   "metadata": {},
   "outputs": [],
   "source": [
    "def objective(trial):\n",
    "        param_grid = {\n",
    "            \"learning_rate\": trial.suggest_float(\"learning_rate\", 0.01, 0.05),\n",
    "            \"max_depth\": trial.suggest_int(\"max_depth\", 3, 6),\n",
    "            'min_child_weight': trial.suggest_float(\"min_child_weight\", 0.1, 10),\n",
    "            \"colsample_bytree\": trial.suggest_float(\"colsample_bytree\", 0.5, 0.9),\n",
    "            \"subsample\": trial.suggest_float(\"subsample\", 0.2, 0.7),\n",
    "            \"reg_alpha\": trial.suggest_float(\"reg_alpha\", 1, 5),\n",
    "            \"reg_lambda\": trial.suggest_float(\"reg_lambda\", 1, 5),\n",
    "            'max_bin': trial.suggest_int('max_bin', 50, 100)\n",
    "        }\n",
    "\n",
    "        pruning_callback = optuna.integration.LightGBMPruningCallback(trial, \"auc\")\n",
    "        early_callback = lgb.early_stopping(1)\n",
    "\n",
    "        full_grid = {**param_grid, **static_param}\n",
    "\n",
    "        train_set = lgb.Dataset(xtrain, label=ytrain)\n",
    "\n",
    "        cv_results = lgb.cv(full_grid,\n",
    "                            train_set,\n",
    "                            folds=opt_grid['cv'],\n",
    "                            nfold=opt_grid['folds'],\n",
    "                            shuffle=False,\n",
    "                            callbacks=[pruning_callback, early_callback]\n",
    "                            )\n",
    "\n",
    "        scores = np.array(cv_results['%s-mean' % full_grid['metric']])\n",
    "\n",
    "        if trial.should_prune():\n",
    "            raise optuna.exceptions.TrialPruned()\n",
    "\n",
    "        return np.mean(scores)\n"
   ]
  },
  {
   "cell_type": "code",
   "execution_count": 255,
   "id": "59e9bab8-6ad1-4282-9f26-acf21e0fd5a7",
   "metadata": {},
   "outputs": [
    {
     "name": "stderr",
     "output_type": "stream",
     "text": [
      "\u001b[32m[I 2022-07-31 14:16:14,812]\u001b[0m A new study created in memory with name: no-name-fa7c1b16-c71a-406b-bff5-8e235c775415\u001b[0m\n"
     ]
    },
    {
     "name": "stdout",
     "output_type": "stream",
     "text": [
      "Training until validation scores don't improve for 1 rounds\n"
     ]
    },
    {
     "name": "stderr",
     "output_type": "stream",
     "text": [
      "\u001b[32m[I 2022-07-31 14:16:15,653]\u001b[0m Trial 0 finished with value: 0.8309232292249811 and parameters: {'learning_rate': 0.011537205722821851, 'max_depth': 3, 'min_child_weight': 7.954099566707031, 'colsample_bytree': 0.733672365168599, 'subsample': 0.6900622034832957, 'reg_alpha': 4.036749483746876, 'reg_lambda': 3.969924909919909, 'max_bin': 83}. Best is trial 0 with value: 0.8309232292249811.\u001b[0m\n"
     ]
    },
    {
     "name": "stdout",
     "output_type": "stream",
     "text": [
      "Early stopping, best iteration is:\n",
      "[4]\tcv_agg's auc: 0.836384 + 0.00383355\n",
      "Training until validation scores don't improve for 1 rounds\n"
     ]
    },
    {
     "name": "stderr",
     "output_type": "stream",
     "text": [
      "\u001b[32m[I 2022-07-31 14:16:16,631]\u001b[0m Trial 1 finished with value: 0.8449104238813271 and parameters: {'learning_rate': 0.016150676747690502, 'max_depth': 6, 'min_child_weight': 0.20972595047337791, 'colsample_bytree': 0.8795136918477197, 'subsample': 0.5514966593830863, 'reg_alpha': 1.7634068298562733, 'reg_lambda': 1.6892169378933892, 'max_bin': 69}. Best is trial 1 with value: 0.8449104238813271.\u001b[0m\n"
     ]
    },
    {
     "name": "stdout",
     "output_type": "stream",
     "text": [
      "Early stopping, best iteration is:\n",
      "[4]\tcv_agg's auc: 0.848495 + 0.00466603\n",
      "Training until validation scores don't improve for 1 rounds\n",
      "Early stopping, best iteration is:\n",
      "[4]\tcv_agg's auc: 0.839674 + 0.00483368\n"
     ]
    },
    {
     "name": "stderr",
     "output_type": "stream",
     "text": [
      "\u001b[32m[I 2022-07-31 14:16:17,371]\u001b[0m Trial 2 finished with value: 0.8352712504218565 and parameters: {'learning_rate': 0.030866487405698965, 'max_depth': 4, 'min_child_weight': 7.411908396581043, 'colsample_bytree': 0.7003758472001314, 'subsample': 0.3364176747222951, 'reg_alpha': 1.9502451020249287, 'reg_lambda': 3.3769413137169324, 'max_bin': 91}. Best is trial 1 with value: 0.8449104238813271.\u001b[0m\n"
     ]
    },
    {
     "name": "stdout",
     "output_type": "stream",
     "text": [
      "Training until validation scores don't improve for 1 rounds\n"
     ]
    },
    {
     "name": "stderr",
     "output_type": "stream",
     "text": [
      "\u001b[32m[I 2022-07-31 14:16:18,316]\u001b[0m Trial 3 finished with value: 0.8352969555703206 and parameters: {'learning_rate': 0.03904287258134346, 'max_depth': 4, 'min_child_weight': 4.129095091119126, 'colsample_bytree': 0.5111818704000444, 'subsample': 0.2574129124375931, 'reg_alpha': 4.0164688313823, 'reg_lambda': 2.9429016314678687, 'max_bin': 62}. Best is trial 1 with value: 0.8449104238813271.\u001b[0m\n"
     ]
    },
    {
     "name": "stdout",
     "output_type": "stream",
     "text": [
      "Early stopping, best iteration is:\n",
      "[3]\tcv_agg's auc: 0.844623 + 0.00564766\n",
      "Training until validation scores don't improve for 1 rounds\n"
     ]
    },
    {
     "name": "stderr",
     "output_type": "stream",
     "text": [
      "\u001b[32m[I 2022-07-31 14:16:19,251]\u001b[0m Trial 4 finished with value: 0.8311055431732333 and parameters: {'learning_rate': 0.01190135815233842, 'max_depth': 3, 'min_child_weight': 9.799367830810862, 'colsample_bytree': 0.6944134768283282, 'subsample': 0.4517184140238902, 'reg_alpha': 1.2171154063032499, 'reg_lambda': 3.0186211988477822, 'max_bin': 74}. Best is trial 1 with value: 0.8449104238813271.\u001b[0m\n"
     ]
    },
    {
     "name": "stdout",
     "output_type": "stream",
     "text": [
      "Early stopping, best iteration is:\n",
      "[4]\tcv_agg's auc: 0.83648 + 0.00438103\n"
     ]
    },
    {
     "name": "stderr",
     "output_type": "stream",
     "text": [
      "\u001b[32m[I 2022-07-31 14:16:19,836]\u001b[0m Trial 5 pruned. Trial was pruned at iteration 0.\u001b[0m\n"
     ]
    },
    {
     "name": "stdout",
     "output_type": "stream",
     "text": [
      "Training until validation scores don't improve for 1 rounds\n",
      "Early stopping, best iteration is:\n",
      "[3]\tcv_agg's auc: 0.843605 + 0.00412567\n"
     ]
    },
    {
     "name": "stderr",
     "output_type": "stream",
     "text": [
      "\u001b[32m[I 2022-07-31 14:16:20,764]\u001b[0m Trial 6 finished with value: 0.8353841601732223 and parameters: {'learning_rate': 0.04013532680023088, 'max_depth': 4, 'min_child_weight': 2.6480330309702325, 'colsample_bytree': 0.6735319973235452, 'subsample': 0.6464900437019108, 'reg_alpha': 3.760996949664157, 'reg_lambda': 2.224027073272176, 'max_bin': 91}. Best is trial 1 with value: 0.8449104238813271.\u001b[0m\n",
      "\u001b[32m[I 2022-07-31 14:16:21,288]\u001b[0m Trial 7 pruned. Trial was pruned at iteration 0.\u001b[0m\n",
      "\u001b[32m[I 2022-07-31 14:16:22,080]\u001b[0m Trial 8 finished with value: 0.8427624283564704 and parameters: {'learning_rate': 0.0236690238971873, 'max_depth': 6, 'min_child_weight': 0.6598697346867007, 'colsample_bytree': 0.6301268809059893, 'subsample': 0.5832819542193141, 'reg_alpha': 1.8564722267445184, 'reg_lambda': 3.881784152233115, 'max_bin': 75}. Best is trial 1 with value: 0.8449104238813271.\u001b[0m\n"
     ]
    },
    {
     "name": "stdout",
     "output_type": "stream",
     "text": [
      "Training until validation scores don't improve for 1 rounds\n",
      "Early stopping, best iteration is:\n",
      "[3]\tcv_agg's auc: 0.850211 + 0.00305505\n"
     ]
    },
    {
     "name": "stderr",
     "output_type": "stream",
     "text": [
      "\u001b[32m[I 2022-07-31 14:16:22,603]\u001b[0m Trial 9 pruned. Trial was pruned at iteration 0.\u001b[0m\n"
     ]
    }
   ],
   "source": [
    "study = optuna.create_study(sampler=optuna.samplers.TPESampler(), direction='maximize')\n",
    "study.optimize(objective, n_trials=opt_grid['number_of_trials'], show_progress_bar=False, timeout=opt_grid['time_constraint'])\n",
    "model_parameters = study.best_params"
   ]
  },
  {
   "cell_type": "code",
   "execution_count": 257,
   "id": "0a805c49-a450-4830-8d49-e5aceb1f5d20",
   "metadata": {},
   "outputs": [],
   "source": [
    "lgbm_model = LGBMClassifier()"
   ]
  },
  {
   "cell_type": "code",
   "execution_count": 258,
   "id": "cd94d283-b541-4444-9def-c83b639701fc",
   "metadata": {},
   "outputs": [
    {
     "data": {
      "text/plain": [
       "LGBMClassifier(colsample_bytree=0.8449269793735279,\n",
       "               learning_rate=0.019706375683285406, max_bin=54, max_depth=6,\n",
       "               min_child_weight=7.524256091143642, reg_alpha=4.202447242672279,\n",
       "               reg_lambda=4.617876854761777, subsample=0.2599315427861408)"
      ]
     },
     "execution_count": 258,
     "metadata": {},
     "output_type": "execute_result"
    }
   ],
   "source": [
    "lgbm_model.set_params(**model_parameters)"
   ]
  },
  {
   "cell_type": "code",
   "execution_count": 266,
   "id": "808af131-542e-481f-a127-e2833a7eb359",
   "metadata": {},
   "outputs": [
    {
     "name": "stdout",
     "output_type": "stream",
     "text": [
      "-----------model_lgbm, pred_lgbm, probs_lgbm loaded-----------\n"
     ]
    }
   ],
   "source": [
    "model_lgbm=lgbm_model.fit(xtrain,ytrain)\n",
    "pred_lgbm=model_lgbm.predict(xtest)\n",
    "probs_lgbm = model_lgbm.predict_proba(xtest)[:, 1]\n",
    "\n",
    "print('-----------model_lgbm, pred_lgbm, probs_lgbm loaded-----------')"
   ]
  },
  {
   "cell_type": "code",
   "execution_count": null,
   "id": "0744d44c-d01e-41d6-ab70-03e8ae17746c",
   "metadata": {},
   "outputs": [],
   "source": []
  }
 ],
 "metadata": {
  "kernelspec": {
   "display_name": "Python 3 (ipykernel)",
   "language": "python",
   "name": "python3"
  },
  "language_info": {
   "codemirror_mode": {
    "name": "ipython",
    "version": 3
   },
   "file_extension": ".py",
   "mimetype": "text/x-python",
   "name": "python",
   "nbconvert_exporter": "python",
   "pygments_lexer": "ipython3",
   "version": "3.7.12"
  }
 },
 "nbformat": 4,
 "nbformat_minor": 5
}
