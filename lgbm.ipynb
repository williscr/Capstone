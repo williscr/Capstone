{
 "cells": [
  {
   "cell_type": "code",
   "execution_count": 4,
   "id": "8ccdb38d-5091-4b85-a864-50244dc51b23",
   "metadata": {},
   "outputs": [
    {
     "name": "stdout",
     "output_type": "stream",
     "text": [
      "------------Training LgbmBoost------------\n",
      "Preprocessed : xtrain, xtest, ytrain, ytest\n",
      "(74736, 13) (18684, 13) (74736,) (18684,)\n"
     ]
    }
   ],
   "source": [
    "print('------------Training LgbmBoost------------')\n",
    "%run ./Preprocessing.ipynb\n",
    "import optuna"
   ]
  },
  {
   "cell_type": "code",
   "execution_count": 5,
   "id": "31615d58-af67-47f4-9b8a-fd4aea5c078b",
   "metadata": {},
   "outputs": [],
   "source": [
    "import lightgbm as lgb\n",
    "\n",
    "from lightgbm import (LGBMClassifier, Dataset, cv, early_stopping)\n",
    "\n",
    "from sklearn.metrics import roc_auc_score, confusion_matrix, accuracy_score"
   ]
  },
  {
   "cell_type": "code",
   "execution_count": 6,
   "id": "141d8424-55a0-4275-9f7a-148733a39cf0",
   "metadata": {},
   "outputs": [
    {
     "ename": "NameError",
     "evalue": "name 'KFold' is not defined",
     "output_type": "error",
     "traceback": [
      "\u001b[1;31m---------------------------------------------------------------------------\u001b[0m",
      "\u001b[1;31mNameError\u001b[0m                                 Traceback (most recent call last)",
      "\u001b[1;32m~\\AppData\\Local\\Temp\\ipykernel_17140\\3669012485.py\u001b[0m in \u001b[0;36m<module>\u001b[1;34m\u001b[0m\n\u001b[0;32m     10\u001b[0m     \u001b[1;34m'shuffle'\u001b[0m\u001b[1;33m:\u001b[0m \u001b[1;32mTrue\u001b[0m\u001b[1;33m,\u001b[0m\u001b[1;33m\u001b[0m\u001b[1;33m\u001b[0m\u001b[0m\n\u001b[0;32m     11\u001b[0m     \u001b[1;34m'folds'\u001b[0m \u001b[1;33m:\u001b[0m \u001b[1;36m10\u001b[0m\u001b[1;33m,\u001b[0m\u001b[1;33m\u001b[0m\u001b[1;33m\u001b[0m\u001b[0m\n\u001b[1;32m---> 12\u001b[1;33m     \u001b[1;34m'cv'\u001b[0m\u001b[1;33m:\u001b[0m \u001b[0mKFold\u001b[0m\u001b[1;33m(\u001b[0m\u001b[0mn_splits\u001b[0m\u001b[1;33m=\u001b[0m\u001b[1;36m10\u001b[0m\u001b[1;33m,\u001b[0m \u001b[0mrandom_state\u001b[0m\u001b[1;33m=\u001b[0m\u001b[1;32mNone\u001b[0m\u001b[1;33m,\u001b[0m \u001b[0mshuffle\u001b[0m\u001b[1;33m=\u001b[0m\u001b[1;32mTrue\u001b[0m\u001b[1;33m)\u001b[0m\u001b[1;33m,\u001b[0m\u001b[1;33m\u001b[0m\u001b[1;33m\u001b[0m\u001b[0m\n\u001b[0m\u001b[0;32m     13\u001b[0m     \u001b[1;34m'time_constraint'\u001b[0m\u001b[1;33m:\u001b[0m \u001b[1;36m60\u001b[0m \u001b[1;33m*\u001b[0m \u001b[1;36m1\u001b[0m\u001b[1;33m\u001b[0m\u001b[1;33m\u001b[0m\u001b[0m\n\u001b[0;32m     14\u001b[0m }\n",
      "\u001b[1;31mNameError\u001b[0m: name 'KFold' is not defined"
     ]
    }
   ],
   "source": [
    "static_param = {\n",
    "    'objective': 'binary',\n",
    "    'metric': 'auc',\n",
    "    \"verbose\": -1,\n",
    "}\n",
    "\n",
    "opt_grid = {\n",
    "    'early_stopping': 100,\n",
    "    'number_of_trials': 100,\n",
    "    'shuffle': True,\n",
    "    'folds' : 10, \n",
    "    'cv': KFold(n_splits=10, random_state=None, shuffle=True),\n",
    "    'time_constraint': 60 * 1\n",
    "}\n"
   ]
  },
  {
   "cell_type": "code",
   "execution_count": null,
   "id": "4f430f90-98a5-4200-a151-319c6b0f570f",
   "metadata": {},
   "outputs": [],
   "source": [
    "def objective(trial):\n",
    "        '''\n",
    "    Objective function to optimise the hyperparamers of LGBM Classification \n",
    "    Args:\n",
    "         trial object (object): Trials evaluating an objective function. \n",
    "         This object provides interfaces to get parameter suggestion, manage the trial’s state, and set/get user-defined attributes of the trial.\n",
    "\n",
    "    Returns:\n",
    "          Study  (object): Trained Study Object\n",
    "    '''  \n",
    "        \n",
    "        param_grid = {\n",
    "            \"learning_rate\": trial.suggest_float(\"learning_rate\", 0.01, 0.8),\n",
    "            \"max_depth\": trial.suggest_int(\"max_depth\", 2, 30),\n",
    "            'min_child_weight': trial.suggest_float(\"min_child_weight\", 1, 500),\n",
    "            \"colsample_bytree\": trial.suggest_float(\"colsample_bytree\", 0.1, 1),\n",
    "            \"colsample_bylevel\": trial.suggest_float(\"colsample_bytree\", 0.1, 1),\n",
    "            \"subsample\": trial.suggest_float(\"subsample\", 0.1, 1),\n",
    "            \"reg_alpha\": trial.suggest_float(\"reg_alpha\", 0, 5),\n",
    "            \"reg_lambda\": trial.suggest_float(\"reg_lambda\", 0, 5),\n",
    "            'max_bin': trial.suggest_int('max_bin', 50, 100)\n",
    "        }\n",
    "\n",
    "        pruning_callback = optuna.integration.LightGBMPruningCallback(trial, \"auc\")\n",
    "        early_callback = lgb.early_stopping(5)\n",
    "\n",
    "        full_grid = {**param_grid, **static_param}\n",
    "\n",
    "        train_set = lgb.Dataset(xtrain, label=ytrain)\n",
    "\n",
    "        cv_results = lgb.cv(full_grid,\n",
    "                            train_set,\n",
    "                            folds=opt_grid['cv'],\n",
    "                            nfold=opt_grid['folds'],\n",
    "                            shuffle=False,\n",
    "                            callbacks=[pruning_callback, early_callback]\n",
    "                            )\n",
    "\n",
    "        scores = np.array(cv_results['%s-mean' % full_grid['metric']])\n",
    "\n",
    "        if trial.should_prune():\n",
    "            raise optuna.exceptions.TrialPruned()\n",
    "\n",
    "        return np.mean(scores)\n",
    "\n",
    "optuna.logging.set_verbosity(optuna.logging.CRITICAL)\n",
    "study = optuna.create_study(sampler=optuna.samplers.TPESampler(), direction='maximize')\n",
    "study.optimize(objective, n_trials=opt_grid['number_of_trials'], show_progress_bar=False, timeout=opt_grid['time_constraint'])\n",
    "model_parameters = study.best_params"
   ]
  },
  {
   "cell_type": "code",
   "execution_count": null,
   "id": "59e9bab8-6ad1-4282-9f26-acf21e0fd5a7",
   "metadata": {},
   "outputs": [],
   "source": []
  },
  {
   "cell_type": "code",
   "execution_count": 7,
   "id": "0a805c49-a450-4830-8d49-e5aceb1f5d20",
   "metadata": {},
   "outputs": [],
   "source": [
    "lgbm_model = LGBMClassifier()"
   ]
  },
  {
   "cell_type": "code",
   "execution_count": 8,
   "id": "cd94d283-b541-4444-9def-c83b639701fc",
   "metadata": {},
   "outputs": [
    {
     "ename": "NameError",
     "evalue": "name 'model_parameters' is not defined",
     "output_type": "error",
     "traceback": [
      "\u001b[1;31m---------------------------------------------------------------------------\u001b[0m",
      "\u001b[1;31mNameError\u001b[0m                                 Traceback (most recent call last)",
      "\u001b[1;32m~\\AppData\\Local\\Temp\\ipykernel_17140\\2760501808.py\u001b[0m in \u001b[0;36m<module>\u001b[1;34m\u001b[0m\n\u001b[0;32m      1\u001b[0m \u001b[1;31m#Set the parameters to the tuned parameters from the optuna study\u001b[0m\u001b[1;33m\u001b[0m\u001b[1;33m\u001b[0m\u001b[1;33m\u001b[0m\u001b[0m\n\u001b[1;32m----> 2\u001b[1;33m \u001b[0mlgbm_model\u001b[0m\u001b[1;33m.\u001b[0m\u001b[0mset_params\u001b[0m\u001b[1;33m(\u001b[0m\u001b[1;33m**\u001b[0m\u001b[0mmodel_parameters\u001b[0m\u001b[1;33m)\u001b[0m\u001b[1;33m\u001b[0m\u001b[1;33m\u001b[0m\u001b[0m\n\u001b[0m",
      "\u001b[1;31mNameError\u001b[0m: name 'model_parameters' is not defined"
     ]
    }
   ],
   "source": [
    "#Set the parameters to the tuned parameters from the optuna study\n",
    "lgbm_model.set_params(**model_parameters)"
   ]
  },
  {
   "cell_type": "code",
   "execution_count": 9,
   "id": "808af131-542e-481f-a127-e2833a7eb359",
   "metadata": {},
   "outputs": [
    {
     "name": "stdout",
     "output_type": "stream",
     "text": [
      "-----------model_lgbm, pred_lgbm, probs_lgbm loaded-----------\n"
     ]
    }
   ],
   "source": [
    "#Fit the model on the training data\n",
    "model_lgbm=lgbm_model.fit(xtrain,ytrain)\n",
    "\n",
    "#Make predictions. \n",
    "pred_lgbm=model_lgbm.predict(xtest)\n",
    "probs_lgbm = model_lgbm.predict_proba(xtest)[:, 1]\n",
    "\n",
    "pred_lgbm_train = model_lgbm.predict(xtrain)\n",
    "probs_lgbm_train =  model_lgbm.predict_proba(xtrain)[:, 1]\n",
    "\n",
    "print('-----------model_lgbm, pred_lgbm, probs_lgbm loaded-----------')"
   ]
  },
  {
   "cell_type": "code",
   "execution_count": null,
   "id": "5fb24d92-1603-48e3-a83b-a58c237abaa0",
   "metadata": {},
   "outputs": [],
   "source": []
  }
 ],
 "metadata": {
  "kernelspec": {
   "display_name": "Python 3 (ipykernel)",
   "language": "python",
   "name": "python3"
  },
  "language_info": {
   "codemirror_mode": {
    "name": "ipython",
    "version": 3
   },
   "file_extension": ".py",
   "mimetype": "text/x-python",
   "name": "python",
   "nbconvert_exporter": "python",
   "pygments_lexer": "ipython3",
   "version": "3.7.12"
  }
 },
 "nbformat": 4,
 "nbformat_minor": 5
}
